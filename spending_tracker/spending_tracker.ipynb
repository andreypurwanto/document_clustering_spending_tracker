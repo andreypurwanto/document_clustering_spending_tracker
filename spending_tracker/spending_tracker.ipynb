{
 "cells": [
  {
   "cell_type": "code",
   "execution_count": 1,
   "metadata": {},
   "outputs": [],
   "source": [
    "# import os\n",
    "# import pandas as pd\n",
    "\n",
    "# temp_list_df = []\n",
    "# dir_path = os.path.join(os.getcwd(),'data_scrap')\n",
    "\n",
    "# for path in os.listdir(dir_path):\n",
    "#     if os.path.isfile(os.path.join(dir_path, path)):\n",
    "#         temp_list_df.append(pd.read_csv(os.path.join(dir_path,path)))\n",
    "\n",
    "# df = pd.concat(temp_list_df)\n",
    "# df.to_csv('data_scrap_combined.csv',index=False)"
   ]
  },
  {
   "cell_type": "code",
   "execution_count": 2,
   "metadata": {},
   "outputs": [],
   "source": [
    "import pandas as pd\n",
    "import os\n",
    "import re\n",
    "import string"
   ]
  },
  {
   "cell_type": "code",
   "execution_count": 3,
   "metadata": {},
   "outputs": [],
   "source": [
    "df = pd.read_csv('data_scrap_combined.csv')"
   ]
  },
  {
   "cell_type": "code",
   "execution_count": 4,
   "metadata": {},
   "outputs": [],
   "source": [
    "def text_cleaning(text:str)->str:\n",
    "    '''Make text lowercase, remove text in square brackets,remove links,remove punctuation\n",
    "    and remove words containing numbers.'''\n",
    "    text = str(text).lower()\n",
    "    text = re.sub('\\[.*?\\]', '', text)\n",
    "    text = re.sub('https?://\\S+|www\\.\\S+', '', text)\n",
    "    text = re.sub('<.*?>+', '', text)\n",
    "    text = re.sub('[%s]' % re.escape(string.punctuation), '', text)\n",
    "    text = re.sub('\\n', '', text)\n",
    "    # text = re.sub('\\w*\\d\\w*', '', text)\n",
    "    return text\n",
    "\n",
    "def price_to_int(text:str):\n",
    "    text = text.replace('Rp','').replace('.','')\n",
    "    return int(text)"
   ]
  },
  {
   "cell_type": "code",
   "execution_count": 5,
   "metadata": {},
   "outputs": [],
   "source": [
    "df['text_cleaned'] = df['text'].apply(lambda x:text_cleaning(x))\n",
    "df['price_int'] = df['price'].apply(lambda x:price_to_int(x))"
   ]
  },
  {
   "cell_type": "code",
   "execution_count": 6,
   "metadata": {},
   "outputs": [],
   "source": [
    "df_cleaned = df[['text_cleaned','price_int','type_']]"
   ]
  },
  {
   "cell_type": "code",
   "execution_count": 7,
   "metadata": {},
   "outputs": [
    {
     "data": {
      "text/plain": [
       "0         aksesoris-handphone\n",
       "1         aksesoris-handphone\n",
       "2         aksesoris-handphone\n",
       "3         aksesoris-handphone\n",
       "4         aksesoris-handphone\n",
       "                 ...         \n",
       "126445       wearable-devices\n",
       "126446       wearable-devices\n",
       "126447       wearable-devices\n",
       "126448       wearable-devices\n",
       "126449       wearable-devices\n",
       "Name: type_, Length: 126450, dtype: object"
      ]
     },
     "execution_count": 7,
     "metadata": {},
     "output_type": "execute_result"
    }
   ],
   "source": [
    "df_cleaned['type_']"
   ]
  },
  {
   "cell_type": "code",
   "execution_count": 8,
   "metadata": {},
   "outputs": [],
   "source": [
    "import os\n",
    "import pandas as pd\n",
    "import numpy as np\n",
    "from scipy.stats import randint\n",
    "import seaborn as sns # used for plot interactive graph. \n",
    "import matplotlib.pyplot as plt\n",
    "import seaborn as sns\n",
    "from sklearn.feature_extraction.text import TfidfVectorizer\n",
    "from sklearn.model_selection import train_test_split\n",
    "from sklearn.naive_bayes import MultinomialNB\n",
    "from sklearn.linear_model import LogisticRegression\n",
    "from sklearn.ensemble import RandomForestClassifier\n",
    "from sklearn.model_selection import cross_val_score\n",
    "#import warnings\n",
    "#warnings.filterwarnings(\"ignore\", category=FutureWarning)"
   ]
  },
  {
   "cell_type": "code",
   "execution_count": 9,
   "metadata": {},
   "outputs": [
    {
     "name": "stderr",
     "output_type": "stream",
     "text": [
      "C:\\Users\\Andrey\\AppData\\Local\\Temp\\ipykernel_12140\\1051128527.py:8: SettingWithCopyWarning: \n",
      "A value is trying to be set on a copy of a slice from a DataFrame.\n",
      "Try using .loc[row_indexer,col_indexer] = value instead\n",
      "\n",
      "See the caveats in the documentation: https://pandas.pydata.org/pandas-docs/stable/user_guide/indexing.html#returning-a-view-versus-a-copy\n",
      "  df_cleaned['category_id'] = df_cleaned['type_'].apply(lambda x : to_category_id(x,unique_col))\n"
     ]
    }
   ],
   "source": [
    "unique_col = df_cleaned['type_'].unique()\n",
    "def to_category_id(x, unique_col):\n",
    "    count = 0\n",
    "    for col in unique_col:\n",
    "        if str(x) ==  str(col):\n",
    "            return count\n",
    "        count+=1\n",
    "df_cleaned['category_id'] = df_cleaned['type_'].apply(lambda x : to_category_id(x,unique_col))"
   ]
  },
  {
   "cell_type": "code",
   "execution_count": 10,
   "metadata": {},
   "outputs": [],
   "source": [
    "tfidf = TfidfVectorizer(sublinear_tf=True, \n",
    "                        min_df=5,\n",
    "                        max_features=10000)\n",
    "\n",
    "# We transform each complaint into a vector\n",
    "features = tfidf.fit_transform(df_cleaned['text_cleaned']).toarray()\n",
    "\n",
    "labels = df_cleaned['category_id']"
   ]
  },
  {
   "cell_type": "code",
   "execution_count": 11,
   "metadata": {},
   "outputs": [
    {
     "name": "stderr",
     "output_type": "stream",
     "text": [
      "c:\\Users\\Andrey\\miniconda3\\envs\\rakamin\\lib\\site-packages\\sklearn\\linear_model\\_logistic.py:458: ConvergenceWarning: lbfgs failed to converge (status=1):\n",
      "STOP: TOTAL NO. of ITERATIONS REACHED LIMIT.\n",
      "\n",
      "Increase the number of iterations (max_iter) or scale the data as shown in:\n",
      "    https://scikit-learn.org/stable/modules/preprocessing.html\n",
      "Please also refer to the documentation for alternative solver options:\n",
      "    https://scikit-learn.org/stable/modules/linear_model.html#logistic-regression\n",
      "  n_iter_i = _check_optimize_result(\n",
      "c:\\Users\\Andrey\\miniconda3\\envs\\rakamin\\lib\\site-packages\\sklearn\\linear_model\\_logistic.py:458: ConvergenceWarning: lbfgs failed to converge (status=1):\n",
      "STOP: TOTAL NO. of ITERATIONS REACHED LIMIT.\n",
      "\n",
      "Increase the number of iterations (max_iter) or scale the data as shown in:\n",
      "    https://scikit-learn.org/stable/modules/preprocessing.html\n",
      "Please also refer to the documentation for alternative solver options:\n",
      "    https://scikit-learn.org/stable/modules/linear_model.html#logistic-regression\n",
      "  n_iter_i = _check_optimize_result(\n"
     ]
    }
   ],
   "source": [
    "# 17 minutes\n",
    "models = [\n",
    "    RandomForestClassifier(n_estimators=100, max_depth=5, random_state=0),\n",
    "    MultinomialNB(),\n",
    "    LogisticRegression(random_state=0),\n",
    "]\n",
    "\n",
    "# 5 Cross-validation\n",
    "CV = 2\n",
    "cv_df = pd.DataFrame(index=range(CV * len(models)))\n",
    "\n",
    "entries = []\n",
    "for model in models:\n",
    "  model_name = model.__class__.__name__\n",
    "  accuracies = cross_val_score(model, features, labels, scoring='accuracy', cv=CV)\n",
    "  for fold_idx, accuracy in enumerate(accuracies):\n",
    "    entries.append((model_name, fold_idx, accuracy))\n",
    "    \n",
    "cv_df = pd.DataFrame(entries, columns=['model_name', 'fold_idx', 'accuracy'])"
   ]
  },
  {
   "cell_type": "code",
   "execution_count": 13,
   "metadata": {},
   "outputs": [],
   "source": [
    "X = df_cleaned['text_cleaned'] # Collection of documents\n",
    "y = df_cleaned['type_'] # Target or the labels we want to predict (i.e., the 13 different complaints of products)\n"
   ]
  },
  {
   "cell_type": "code",
   "execution_count": 14,
   "metadata": {},
   "outputs": [
    {
     "name": "stderr",
     "output_type": "stream",
     "text": [
      "c:\\Users\\Andrey\\miniconda3\\envs\\rakamin\\lib\\site-packages\\sklearn\\linear_model\\_logistic.py:458: ConvergenceWarning: lbfgs failed to converge (status=1):\n",
      "STOP: TOTAL NO. of ITERATIONS REACHED LIMIT.\n",
      "\n",
      "Increase the number of iterations (max_iter) or scale the data as shown in:\n",
      "    https://scikit-learn.org/stable/modules/preprocessing.html\n",
      "Please also refer to the documentation for alternative solver options:\n",
      "    https://scikit-learn.org/stable/modules/linear_model.html#logistic-regression\n",
      "  n_iter_i = _check_optimize_result(\n"
     ]
    }
   ],
   "source": [
    "X_train, X_test, y_train, y_test = train_test_split(X, y, \n",
    "                                                    test_size=0.25,\n",
    "                                                    random_state = 0)\n",
    "\n",
    "tfidf = TfidfVectorizer(sublinear_tf=True, min_df=5,\n",
    "                        ngram_range=(1, 2), \n",
    "                        stop_words='english')\n",
    "\n",
    "fitted_vectorizer = tfidf.fit(X_train)\n",
    "tfidf_vectorizer_vectors = fitted_vectorizer.transform(X_train)\n",
    "\n",
    "model = LogisticRegression().fit(tfidf_vectorizer_vectors, y_train)"
   ]
  },
  {
   "cell_type": "code",
   "execution_count": 15,
   "metadata": {},
   "outputs": [
    {
     "name": "stdout",
     "output_type": "stream",
     "text": [
      "                           precision    recall  f1-score   support\n",
      "\n",
      "   aksesoris-game-console       0.84      0.81      0.83      1417\n",
      "      aksesoris-handphone       0.80      0.95      0.87      2327\n",
      "aksesoris-komputer-laptop       0.86      0.82      0.84      1484\n",
      "  aksesoris-mobile-gaming       0.86      0.86      0.86      1567\n",
      "      aksesoris-pc-gaming       0.90      0.86      0.88      1516\n",
      "         aksesoris-tablet       0.86      0.62      0.72      1261\n",
      "   alat-pendingin-ruangan       0.97      0.97      0.97      1397\n",
      "                    audio       0.84      0.94      0.89      1442\n",
      "                  cd-game       0.88      0.92      0.90      1526\n",
      "          desktop-mini-pc       0.93      0.88      0.90      1446\n",
      "         elektronik-dapur       0.96      0.96      0.96      1339\n",
      "  elektronik-rumah-tangga       0.96      0.95      0.96      1496\n",
      "             game-console       0.81      0.82      0.81      1387\n",
      "                handphone       0.88      0.89      0.88      1185\n",
      "          komponen-laptop       0.93      0.95      0.94      1476\n",
      "                    lampu       0.98      0.98      0.98      1376\n",
      "                   laptop       0.93      0.95      0.94      1489\n",
      "         pc-laptop-gaming       0.92      0.89      0.90      1388\n",
      "                  printer       0.96      0.98      0.97      1484\n",
      "                   tablet       0.79      0.78      0.78      1017\n",
      "          virtual-reality       0.99      0.91      0.95      1433\n",
      "         wearable-devices       0.94      0.91      0.93      1160\n",
      "\n",
      "                 accuracy                           0.90     31613\n",
      "                macro avg       0.90      0.89      0.89     31613\n",
      "             weighted avg       0.90      0.90      0.90     31613\n",
      "\n"
     ]
    }
   ],
   "source": [
    "from sklearn.metrics import classification_report\n",
    "\n",
    "y_pred = model.predict(fitted_vectorizer.transform(X_test))\n",
    "print(classification_report(y_test, y_pred, target_names=model.classes_))"
   ]
  },
  {
   "cell_type": "code",
   "execution_count": null,
   "metadata": {},
   "outputs": [],
   "source": []
  }
 ],
 "metadata": {
  "kernelspec": {
   "display_name": "rakamin",
   "language": "python",
   "name": "python3"
  },
  "language_info": {
   "codemirror_mode": {
    "name": "ipython",
    "version": 3
   },
   "file_extension": ".py",
   "mimetype": "text/x-python",
   "name": "python",
   "nbconvert_exporter": "python",
   "pygments_lexer": "ipython3",
   "version": "3.9.16"
  },
  "orig_nbformat": 4
 },
 "nbformat": 4,
 "nbformat_minor": 2
}
