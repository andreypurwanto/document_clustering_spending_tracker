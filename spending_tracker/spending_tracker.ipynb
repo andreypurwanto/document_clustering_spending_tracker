{
 "cells": [
  {
   "cell_type": "code",
   "execution_count": 10,
   "metadata": {},
   "outputs": [],
   "source": [
    "# import os\n",
    "# import pandas as pd\n",
    "\n",
    "# temp_list_df = []\n",
    "# dir_path = os.path.join(os.getcwd(),'data_scrap')\n",
    "\n",
    "# for path in os.listdir(dir_path):\n",
    "#     if os.path.isfile(os.path.join(dir_path, path)):\n",
    "#         temp_list_df.append(pd.read_csv(os.path.join(dir_path,path)))\n",
    "\n",
    "# df = pd.concat(temp_list_df)\n",
    "# df.to_csv('data_scrap_combined.csv',index=False)"
   ]
  },
  {
   "cell_type": "code",
   "execution_count": 11,
   "metadata": {
    "ExecuteTime": {
     "end_time": "2023-03-13T04:13:38.613840Z",
     "start_time": "2023-03-13T04:13:37.256167Z"
    }
   },
   "outputs": [],
   "source": [
    "import pandas as pd\n",
    "import os\n",
    "import re\n",
    "import string"
   ]
  },
  {
   "cell_type": "code",
   "execution_count": 12,
   "metadata": {
    "ExecuteTime": {
     "end_time": "2023-03-13T04:13:39.227074Z",
     "start_time": "2023-03-13T04:13:38.613840Z"
    }
   },
   "outputs": [
    {
     "data": {
      "text/html": [
       "<div>\n",
       "<style scoped>\n",
       "    .dataframe tbody tr th:only-of-type {\n",
       "        vertical-align: middle;\n",
       "    }\n",
       "\n",
       "    .dataframe tbody tr th {\n",
       "        vertical-align: top;\n",
       "    }\n",
       "\n",
       "    .dataframe thead th {\n",
       "        text-align: right;\n",
       "    }\n",
       "</style>\n",
       "<table border=\"1\" class=\"dataframe\">\n",
       "  <thead>\n",
       "    <tr style=\"text-align: right;\">\n",
       "      <th></th>\n",
       "      <th>base_type</th>\n",
       "      <th>type_</th>\n",
       "      <th>text</th>\n",
       "      <th>price</th>\n",
       "    </tr>\n",
       "  </thead>\n",
       "  <tbody>\n",
       "    <tr>\n",
       "      <th>0</th>\n",
       "      <td>handphone-tablet</td>\n",
       "      <td>aksesoris-handphone</td>\n",
       "      <td>Ugreen Data Cable Charger Fast Charging 3A Mic...</td>\n",
       "      <td>Rp59.900</td>\n",
       "    </tr>\n",
       "    <tr>\n",
       "      <th>1</th>\n",
       "      <td>handphone-tablet</td>\n",
       "      <td>aksesoris-handphone</td>\n",
       "      <td>Power Adapter iphone USB-C 20w Fast charging a...</td>\n",
       "      <td>Rp115.000</td>\n",
       "    </tr>\n",
       "    <tr>\n",
       "      <th>2</th>\n",
       "      <td>handphone-tablet</td>\n",
       "      <td>aksesoris-handphone</td>\n",
       "      <td>Charger Samsung Super Fast Charging Original A...</td>\n",
       "      <td>Rp125.000</td>\n",
       "    </tr>\n",
       "    <tr>\n",
       "      <th>3</th>\n",
       "      <td>handphone-tablet</td>\n",
       "      <td>aksesoris-handphone</td>\n",
       "      <td>TONGSIS BLUETOOTH WITH TRIPOD AND ROTATION HOL...</td>\n",
       "      <td>Rp154.875</td>\n",
       "    </tr>\n",
       "    <tr>\n",
       "      <th>4</th>\n",
       "      <td>handphone-tablet</td>\n",
       "      <td>aksesoris-handphone</td>\n",
       "      <td>GUB P30 Original Holder Hp Dudukan Ponsel Alum...</td>\n",
       "      <td>Rp108.000</td>\n",
       "    </tr>\n",
       "  </tbody>\n",
       "</table>\n",
       "</div>"
      ],
      "text/plain": [
       "          base_type                type_  \\\n",
       "0  handphone-tablet  aksesoris-handphone   \n",
       "1  handphone-tablet  aksesoris-handphone   \n",
       "2  handphone-tablet  aksesoris-handphone   \n",
       "3  handphone-tablet  aksesoris-handphone   \n",
       "4  handphone-tablet  aksesoris-handphone   \n",
       "\n",
       "                                                text      price  \n",
       "0  Ugreen Data Cable Charger Fast Charging 3A Mic...   Rp59.900  \n",
       "1  Power Adapter iphone USB-C 20w Fast charging a...  Rp115.000  \n",
       "2  Charger Samsung Super Fast Charging Original A...  Rp125.000  \n",
       "3  TONGSIS BLUETOOTH WITH TRIPOD AND ROTATION HOL...  Rp154.875  \n",
       "4  GUB P30 Original Holder Hp Dudukan Ponsel Alum...  Rp108.000  "
      ]
     },
     "execution_count": 12,
     "metadata": {},
     "output_type": "execute_result"
    }
   ],
   "source": [
    "df = pd.read_csv('data_scrap_combined.csv')\n",
    "df.head()"
   ]
  },
  {
   "cell_type": "code",
   "execution_count": 13,
   "metadata": {
    "ExecuteTime": {
     "end_time": "2023-03-13T04:13:39.258637Z",
     "start_time": "2023-03-13T04:13:39.227696Z"
    }
   },
   "outputs": [],
   "source": [
    "def text_cleaning(text:str)->str:\n",
    "    '''Make text lowercase, remove text in square brackets,remove links,remove punctuation\n",
    "    and remove words containing numbers.'''\n",
    "    text = str(text).lower()\n",
    "    text = re.sub('\\[.*?\\]', '', text)\n",
    "    text = re.sub('https?://\\S+|www\\.\\S+', '', text)\n",
    "    text = re.sub('<.*?>+', '', text)\n",
    "    text = re.sub('[%s]' % re.escape(string.punctuation), '', text)\n",
    "    text = re.sub('\\n', '', text)\n",
    "    # text = re.sub('\\w*\\d\\w*', '', text)\n",
    "    return text\n",
    "\n",
    "def price_to_int(text:str):\n",
    "    text = text.replace('Rp','').replace('.','')\n",
    "    return int(text)"
   ]
  },
  {
   "cell_type": "code",
   "execution_count": 14,
   "metadata": {
    "ExecuteTime": {
     "end_time": "2023-03-13T04:13:43.929611Z",
     "start_time": "2023-03-13T04:13:39.258637Z"
    }
   },
   "outputs": [],
   "source": [
    "df['text_cleaned'] = df['text'].apply(lambda x:text_cleaning(x))\n",
    "df['price_int'] = df['price'].apply(lambda x:price_to_int(x))"
   ]
  },
  {
   "cell_type": "code",
   "execution_count": 15,
   "metadata": {
    "ExecuteTime": {
     "end_time": "2023-03-13T04:13:43.990189Z",
     "start_time": "2023-03-13T04:13:43.936146Z"
    }
   },
   "outputs": [],
   "source": [
    "df_cleaned = df[['text_cleaned','price_int','type_']]"
   ]
  },
  {
   "cell_type": "code",
   "execution_count": 16,
   "metadata": {
    "ExecuteTime": {
     "end_time": "2023-03-13T04:13:44.022136Z",
     "start_time": "2023-03-13T04:13:43.994110Z"
    }
   },
   "outputs": [
    {
     "data": {
      "text/plain": [
       "0         aksesoris-handphone\n",
       "1         aksesoris-handphone\n",
       "2         aksesoris-handphone\n",
       "3         aksesoris-handphone\n",
       "4         aksesoris-handphone\n",
       "                 ...         \n",
       "126445       wearable-devices\n",
       "126446       wearable-devices\n",
       "126447       wearable-devices\n",
       "126448       wearable-devices\n",
       "126449       wearable-devices\n",
       "Name: type_, Length: 126450, dtype: object"
      ]
     },
     "execution_count": 16,
     "metadata": {},
     "output_type": "execute_result"
    }
   ],
   "source": [
    "df_cleaned['type_']"
   ]
  },
  {
   "cell_type": "code",
   "execution_count": 17,
   "metadata": {
    "ExecuteTime": {
     "end_time": "2023-03-13T04:13:47.976962Z",
     "start_time": "2023-03-13T04:13:44.023333Z"
    }
   },
   "outputs": [],
   "source": [
    "import os\n",
    "import pandas as pd\n",
    "import numpy as np\n",
    "from scipy.stats import randint\n",
    "import seaborn as sns # used for plot interactive graph. \n",
    "import matplotlib.pyplot as plt\n",
    "import seaborn as sns\n",
    "from sklearn.feature_extraction.text import TfidfVectorizer\n",
    "from sklearn.model_selection import train_test_split\n",
    "from sklearn.naive_bayes import MultinomialNB\n",
    "from sklearn.linear_model import LogisticRegression\n",
    "from sklearn.ensemble import RandomForestClassifier\n",
    "from sklearn.model_selection import cross_val_score\n",
    "#import warnings\n",
    "#warnings.filterwarnings(\"ignore\", category=FutureWarning)"
   ]
  },
  {
   "cell_type": "code",
   "execution_count": 18,
   "metadata": {
    "ExecuteTime": {
     "end_time": "2023-03-13T04:13:48.685154Z",
     "start_time": "2023-03-13T04:13:47.976962Z"
    }
   },
   "outputs": [
    {
     "name": "stderr",
     "output_type": "stream",
     "text": [
      "C:\\Users\\Andrey\\AppData\\Local\\Temp\\ipykernel_16268\\1051128527.py:8: SettingWithCopyWarning: \n",
      "A value is trying to be set on a copy of a slice from a DataFrame.\n",
      "Try using .loc[row_indexer,col_indexer] = value instead\n",
      "\n",
      "See the caveats in the documentation: https://pandas.pydata.org/pandas-docs/stable/user_guide/indexing.html#returning-a-view-versus-a-copy\n",
      "  df_cleaned['category_id'] = df_cleaned['type_'].apply(lambda x : to_category_id(x,unique_col))\n"
     ]
    }
   ],
   "source": [
    "unique_col = df_cleaned['type_'].unique()\n",
    "def to_category_id(x, unique_col):\n",
    "    count = 0\n",
    "    for col in unique_col:\n",
    "        if str(x) ==  str(col):\n",
    "            return count\n",
    "        count+=1\n",
    "df_cleaned['category_id'] = df_cleaned['type_'].apply(lambda x : to_category_id(x,unique_col))"
   ]
  },
  {
   "cell_type": "code",
   "execution_count": 22,
   "metadata": {
    "ExecuteTime": {
     "end_time": "2023-03-13T04:07:27.629975Z",
     "start_time": "2023-03-13T04:07:25.575723Z"
    }
   },
   "outputs": [],
   "source": []
  },
  {
   "cell_type": "markdown",
   "metadata": {},
   "source": [
    "# Using Machine Learning Solution"
   ]
  },
  {
   "cell_type": "code",
   "execution_count": null,
   "metadata": {},
   "outputs": [],
   "source": [
    "tfidf = TfidfVectorizer(sublinear_tf=True, \n",
    "                        min_df=5,\n",
    "                        max_features=1000)\n",
    "\n",
    "# We transform each complaint into a vector\n",
    "features = tfidf.fit_transform(df_cleaned['text_cleaned']).toarray()\n",
    "\n",
    "labels = df_cleaned['category_id']"
   ]
  },
  {
   "cell_type": "code",
   "execution_count": 23,
   "metadata": {},
   "outputs": [
    {
     "name": "stderr",
     "output_type": "stream",
     "text": [
      "c:\\Users\\Andrey\\miniconda3\\envs\\rakamin2\\lib\\site-packages\\sklearn\\linear_model\\_logistic.py:458: ConvergenceWarning: lbfgs failed to converge (status=1):\n",
      "STOP: TOTAL NO. of ITERATIONS REACHED LIMIT.\n",
      "\n",
      "Increase the number of iterations (max_iter) or scale the data as shown in:\n",
      "    https://scikit-learn.org/stable/modules/preprocessing.html\n",
      "Please also refer to the documentation for alternative solver options:\n",
      "    https://scikit-learn.org/stable/modules/linear_model.html#logistic-regression\n",
      "  n_iter_i = _check_optimize_result(\n",
      "c:\\Users\\Andrey\\miniconda3\\envs\\rakamin2\\lib\\site-packages\\sklearn\\linear_model\\_logistic.py:458: ConvergenceWarning: lbfgs failed to converge (status=1):\n",
      "STOP: TOTAL NO. of ITERATIONS REACHED LIMIT.\n",
      "\n",
      "Increase the number of iterations (max_iter) or scale the data as shown in:\n",
      "    https://scikit-learn.org/stable/modules/preprocessing.html\n",
      "Please also refer to the documentation for alternative solver options:\n",
      "    https://scikit-learn.org/stable/modules/linear_model.html#logistic-regression\n",
      "  n_iter_i = _check_optimize_result(\n"
     ]
    }
   ],
   "source": [
    "# longer max_features longer time to compute\n",
    "models = [\n",
    "    RandomForestClassifier(n_estimators=100, max_depth=5, random_state=0),\n",
    "    MultinomialNB(),\n",
    "    LogisticRegression(random_state=0),\n",
    "]\n",
    "\n",
    "# 2 Cross-validation\n",
    "CV = 2\n",
    "cv_df = pd.DataFrame(index=range(CV * len(models)))\n",
    "\n",
    "entries = []\n",
    "for model in models:\n",
    "  model_name = model.__class__.__name__\n",
    "  accuracies = cross_val_score(model, features, labels, scoring='accuracy', cv=CV)\n",
    "  for fold_idx, accuracy in enumerate(accuracies):\n",
    "    entries.append((model_name, fold_idx, accuracy))\n",
    "    \n",
    "cv_df = pd.DataFrame(entries, columns=['model_name', 'fold_idx', 'accuracy'])"
   ]
  },
  {
   "cell_type": "code",
   "execution_count": 122,
   "metadata": {},
   "outputs": [
    {
     "data": {
      "text/html": [
       "<div>\n",
       "<style scoped>\n",
       "    .dataframe tbody tr th:only-of-type {\n",
       "        vertical-align: middle;\n",
       "    }\n",
       "\n",
       "    .dataframe tbody tr th {\n",
       "        vertical-align: top;\n",
       "    }\n",
       "\n",
       "    .dataframe thead th {\n",
       "        text-align: right;\n",
       "    }\n",
       "</style>\n",
       "<table border=\"1\" class=\"dataframe\">\n",
       "  <thead>\n",
       "    <tr style=\"text-align: right;\">\n",
       "      <th></th>\n",
       "      <th>model_name</th>\n",
       "      <th>fold_idx</th>\n",
       "      <th>accuracy</th>\n",
       "    </tr>\n",
       "  </thead>\n",
       "  <tbody>\n",
       "    <tr>\n",
       "      <th>0</th>\n",
       "      <td>RandomForestClassifier</td>\n",
       "      <td>0</td>\n",
       "      <td>0.561645</td>\n",
       "    </tr>\n",
       "    <tr>\n",
       "      <th>1</th>\n",
       "      <td>RandomForestClassifier</td>\n",
       "      <td>1</td>\n",
       "      <td>0.532084</td>\n",
       "    </tr>\n",
       "    <tr>\n",
       "      <th>2</th>\n",
       "      <td>MultinomialNB</td>\n",
       "      <td>0</td>\n",
       "      <td>0.833009</td>\n",
       "    </tr>\n",
       "    <tr>\n",
       "      <th>3</th>\n",
       "      <td>MultinomialNB</td>\n",
       "      <td>1</td>\n",
       "      <td>0.822681</td>\n",
       "    </tr>\n",
       "    <tr>\n",
       "      <th>4</th>\n",
       "      <td>LogisticRegression</td>\n",
       "      <td>0</td>\n",
       "      <td>0.861321</td>\n",
       "    </tr>\n",
       "    <tr>\n",
       "      <th>5</th>\n",
       "      <td>LogisticRegression</td>\n",
       "      <td>1</td>\n",
       "      <td>0.852985</td>\n",
       "    </tr>\n",
       "  </tbody>\n",
       "</table>\n",
       "</div>"
      ],
      "text/plain": [
       "               model_name  fold_idx  accuracy\n",
       "0  RandomForestClassifier         0  0.561645\n",
       "1  RandomForestClassifier         1  0.532084\n",
       "2           MultinomialNB         0  0.833009\n",
       "3           MultinomialNB         1  0.822681\n",
       "4      LogisticRegression         0  0.861321\n",
       "5      LogisticRegression         1  0.852985"
      ]
     },
     "execution_count": 122,
     "metadata": {},
     "output_type": "execute_result"
    }
   ],
   "source": [
    "cv_df"
   ]
  },
  {
   "cell_type": "code",
   "execution_count": 135,
   "metadata": {},
   "outputs": [
    {
     "data": {
      "text/html": [
       "<div>\n",
       "<style scoped>\n",
       "    .dataframe tbody tr th:only-of-type {\n",
       "        vertical-align: middle;\n",
       "    }\n",
       "\n",
       "    .dataframe tbody tr th {\n",
       "        vertical-align: top;\n",
       "    }\n",
       "\n",
       "    .dataframe thead th {\n",
       "        text-align: right;\n",
       "    }\n",
       "</style>\n",
       "<table border=\"1\" class=\"dataframe\">\n",
       "  <thead>\n",
       "    <tr style=\"text-align: right;\">\n",
       "      <th></th>\n",
       "      <th>text_cleaned</th>\n",
       "      <th>price_int</th>\n",
       "      <th>type_</th>\n",
       "      <th>category_id</th>\n",
       "    </tr>\n",
       "  </thead>\n",
       "  <tbody>\n",
       "    <tr>\n",
       "      <th>0</th>\n",
       "      <td>ugreen data cable charger fast charging 3a mic...</td>\n",
       "      <td>59900</td>\n",
       "      <td>aksesoris-handphone</td>\n",
       "      <td>0</td>\n",
       "    </tr>\n",
       "    <tr>\n",
       "      <th>1</th>\n",
       "      <td>power adapter iphone usbc 20w fast charging ad...</td>\n",
       "      <td>115000</td>\n",
       "      <td>aksesoris-handphone</td>\n",
       "      <td>0</td>\n",
       "    </tr>\n",
       "    <tr>\n",
       "      <th>2</th>\n",
       "      <td>charger samsung super fast charging original a...</td>\n",
       "      <td>125000</td>\n",
       "      <td>aksesoris-handphone</td>\n",
       "      <td>0</td>\n",
       "    </tr>\n",
       "    <tr>\n",
       "      <th>3</th>\n",
       "      <td>tongsis bluetooth with tripod and rotation hol...</td>\n",
       "      <td>154875</td>\n",
       "      <td>aksesoris-handphone</td>\n",
       "      <td>0</td>\n",
       "    </tr>\n",
       "    <tr>\n",
       "      <th>4</th>\n",
       "      <td>gub p30 original holder hp dudukan ponsel alum...</td>\n",
       "      <td>108000</td>\n",
       "      <td>aksesoris-handphone</td>\n",
       "      <td>0</td>\n",
       "    </tr>\n",
       "  </tbody>\n",
       "</table>\n",
       "</div>"
      ],
      "text/plain": [
       "                                        text_cleaned  price_int  \\\n",
       "0  ugreen data cable charger fast charging 3a mic...      59900   \n",
       "1  power adapter iphone usbc 20w fast charging ad...     115000   \n",
       "2  charger samsung super fast charging original a...     125000   \n",
       "3  tongsis bluetooth with tripod and rotation hol...     154875   \n",
       "4  gub p30 original holder hp dudukan ponsel alum...     108000   \n",
       "\n",
       "                 type_  category_id  \n",
       "0  aksesoris-handphone            0  \n",
       "1  aksesoris-handphone            0  \n",
       "2  aksesoris-handphone            0  \n",
       "3  aksesoris-handphone            0  \n",
       "4  aksesoris-handphone            0  "
      ]
     },
     "execution_count": 135,
     "metadata": {},
     "output_type": "execute_result"
    }
   ],
   "source": [
    "df_cleaned.head()"
   ]
  },
  {
   "cell_type": "code",
   "execution_count": 136,
   "metadata": {
    "ExecuteTime": {
     "end_time": "2023-03-13T04:13:48.750747Z",
     "start_time": "2023-03-13T04:13:48.685154Z"
    }
   },
   "outputs": [],
   "source": [
    "X = df_cleaned[['text_cleaned','price_int']] # Collection of documents\n",
    "y = df_cleaned['type_'] # Target or the labels we want to predict (i.e., the 13 different complaints of products)\n",
    "X_train, X_test, y_train, y_test = train_test_split(X, y, \n",
    "                                                    test_size=0.25,\n",
    "                                                    random_state = 0)\n"
   ]
  },
  {
   "cell_type": "code",
   "execution_count": 148,
   "metadata": {},
   "outputs": [],
   "source": [
    "tfidf = TfidfVectorizer(sublinear_tf=True, \n",
    "                        min_df=5,\n",
    "                        max_features=1000)\n",
    "\n",
    "fitted_vectorizer = tfidf.fit(X_train['text_cleaned'])\n",
    "tfidf_vectorizer_vectors = fitted_vectorizer.transform(X_train['text_cleaned']).toarray()"
   ]
  },
  {
   "cell_type": "code",
   "execution_count": 145,
   "metadata": {},
   "outputs": [],
   "source": [
    "# from sklearn.preprocessing import StandardScaler\n",
    "\n",
    "# s_scaler = StandardScaler()\n",
    "# fitted_scaler = s_scaler.fit(X_train[['price_int']])\n",
    "# s_scaler_vector = fitted_scaler.transform(X_train[['price_int']])"
   ]
  },
  {
   "cell_type": "code",
   "execution_count": 165,
   "metadata": {},
   "outputs": [],
   "source": [
    "# stacked_vector = np.column_stack((tfidf_vectorizer_vectors, s_scaler_vector))"
   ]
  },
  {
   "cell_type": "code",
   "execution_count": 166,
   "metadata": {},
   "outputs": [
    {
     "name": "stderr",
     "output_type": "stream",
     "text": [
      "c:\\Users\\Andrey\\miniconda3\\envs\\rakamin2\\lib\\site-packages\\sklearn\\linear_model\\_logistic.py:458: ConvergenceWarning: lbfgs failed to converge (status=1):\n",
      "STOP: TOTAL NO. of ITERATIONS REACHED LIMIT.\n",
      "\n",
      "Increase the number of iterations (max_iter) or scale the data as shown in:\n",
      "    https://scikit-learn.org/stable/modules/preprocessing.html\n",
      "Please also refer to the documentation for alternative solver options:\n",
      "    https://scikit-learn.org/stable/modules/linear_model.html#logistic-regression\n",
      "  n_iter_i = _check_optimize_result(\n"
     ]
    }
   ],
   "source": [
    "model = LogisticRegression().fit(tfidf_vectorizer_vectors, y_train)"
   ]
  },
  {
   "cell_type": "code",
   "execution_count": 167,
   "metadata": {},
   "outputs": [
    {
     "name": "stdout",
     "output_type": "stream",
     "text": [
      "                           precision    recall  f1-score   support\n",
      "\n",
      "   aksesoris-game-console       0.83      0.79      0.81      1417\n",
      "      aksesoris-handphone       0.76      0.93      0.84      2327\n",
      "aksesoris-komputer-laptop       0.81      0.79      0.80      1484\n",
      "  aksesoris-mobile-gaming       0.84      0.81      0.83      1567\n",
      "      aksesoris-pc-gaming       0.89      0.84      0.86      1516\n",
      "         aksesoris-tablet       0.82      0.57      0.68      1261\n",
      "   alat-pendingin-ruangan       0.95      0.94      0.95      1397\n",
      "                    audio       0.78      0.87      0.82      1442\n",
      "                  cd-game       0.85      0.90      0.87      1526\n",
      "          desktop-mini-pc       0.89      0.86      0.87      1446\n",
      "         elektronik-dapur       0.92      0.92      0.92      1339\n",
      "  elektronik-rumah-tangga       0.95      0.91      0.93      1496\n",
      "             game-console       0.79      0.76      0.77      1387\n",
      "                handphone       0.86      0.86      0.86      1185\n",
      "          komponen-laptop       0.92      0.93      0.93      1476\n",
      "                    lampu       0.97      0.98      0.98      1376\n",
      "                   laptop       0.92      0.94      0.93      1489\n",
      "         pc-laptop-gaming       0.91      0.87      0.89      1388\n",
      "                  printer       0.95      0.95      0.95      1484\n",
      "                   tablet       0.60      0.73      0.66      1017\n",
      "          virtual-reality       0.96      0.88      0.92      1433\n",
      "         wearable-devices       0.92      0.89      0.91      1160\n",
      "\n",
      "                 accuracy                           0.87     31613\n",
      "                macro avg       0.87      0.86      0.86     31613\n",
      "             weighted avg       0.87      0.87      0.87     31613\n",
      "\n"
     ]
    }
   ],
   "source": [
    "from sklearn.metrics import classification_report\n",
    "\n",
    "tfidf_vectorizer_vectors_test = fitted_vectorizer.transform(X_test['text_cleaned']).toarray()\n",
    "# s_scaler_vector_test = fitted_scaler.transform(X_test[['price_int']])\n",
    "# stacked_vector_test = np.column_stack((tfidf_vectorizer_vectors_test, s_scaler_vector_test))\n",
    "y_pred = model.predict(tfidf_vectorizer_vectors_test)\n",
    "print(classification_report(y_test, y_pred, target_names=model.classes_))"
   ]
  },
  {
   "cell_type": "code",
   "execution_count": null,
   "metadata": {},
   "outputs": [],
   "source": [
    "# todo use numeric feature also"
   ]
  },
  {
   "cell_type": "markdown",
   "metadata": {},
   "source": [
    "# Extract Important Keywords"
   ]
  },
  {
   "cell_type": "code",
   "execution_count": 28,
   "metadata": {
    "ExecuteTime": {
     "end_time": "2023-03-13T04:14:03.872467Z",
     "start_time": "2023-03-13T04:14:03.812551Z"
    }
   },
   "outputs": [
    {
     "data": {
      "text/html": [
       "<div>\n",
       "<style scoped>\n",
       "    .dataframe tbody tr th:only-of-type {\n",
       "        vertical-align: middle;\n",
       "    }\n",
       "\n",
       "    .dataframe tbody tr th {\n",
       "        vertical-align: top;\n",
       "    }\n",
       "\n",
       "    .dataframe thead th {\n",
       "        text-align: right;\n",
       "    }\n",
       "</style>\n",
       "<table border=\"1\" class=\"dataframe\">\n",
       "  <thead>\n",
       "    <tr style=\"text-align: right;\">\n",
       "      <th></th>\n",
       "      <th>text_cleaned</th>\n",
       "      <th>type_</th>\n",
       "    </tr>\n",
       "  </thead>\n",
       "  <tbody>\n",
       "    <tr>\n",
       "      <th>18532</th>\n",
       "      <td>kabel audio aux iphone lighting usb to jack 35...</td>\n",
       "      <td>audio</td>\n",
       "    </tr>\n",
       "    <tr>\n",
       "      <th>110584</th>\n",
       "      <td>acer aspire 3 slim a314 athlon 3020 4gb 256ssd...</td>\n",
       "      <td>laptop</td>\n",
       "    </tr>\n",
       "    <tr>\n",
       "      <th>2021</th>\n",
       "      <td>100 original xiaomi mi selfie stick tripod blu...</td>\n",
       "      <td>aksesoris-handphone</td>\n",
       "    </tr>\n",
       "    <tr>\n",
       "      <th>52813</th>\n",
       "      <td>pulse 3d wireless headset for playstation 5 ps...</td>\n",
       "      <td>aksesoris-game-console</td>\n",
       "    </tr>\n",
       "    <tr>\n",
       "      <th>54089</th>\n",
       "      <td>mc memory card playstation ps2 8mb  16mb  32mb</td>\n",
       "      <td>aksesoris-game-console</td>\n",
       "    </tr>\n",
       "  </tbody>\n",
       "</table>\n",
       "</div>"
      ],
      "text/plain": [
       "                                             text_cleaned  \\\n",
       "18532   kabel audio aux iphone lighting usb to jack 35...   \n",
       "110584  acer aspire 3 slim a314 athlon 3020 4gb 256ssd...   \n",
       "2021    100 original xiaomi mi selfie stick tripod blu...   \n",
       "52813   pulse 3d wireless headset for playstation 5 ps...   \n",
       "54089      mc memory card playstation ps2 8mb  16mb  32mb   \n",
       "\n",
       "                         type_  \n",
       "18532                    audio  \n",
       "110584                  laptop  \n",
       "2021       aksesoris-handphone  \n",
       "52813   aksesoris-game-console  \n",
       "54089   aksesoris-game-console  "
      ]
     },
     "execution_count": 28,
     "metadata": {},
     "output_type": "execute_result"
    }
   ],
   "source": [
    "df_train = pd.DataFrame()\n",
    "df_train[\"text_cleaned\"] = X_train.copy()\n",
    "df_train[\"type_\"] = y_train.copy()\n",
    "df_train.head()"
   ]
  },
  {
   "cell_type": "code",
   "execution_count": 29,
   "metadata": {},
   "outputs": [
    {
     "data": {
      "text/html": [
       "<div>\n",
       "<style scoped>\n",
       "    .dataframe tbody tr th:only-of-type {\n",
       "        vertical-align: middle;\n",
       "    }\n",
       "\n",
       "    .dataframe tbody tr th {\n",
       "        vertical-align: top;\n",
       "    }\n",
       "\n",
       "    .dataframe thead th {\n",
       "        text-align: right;\n",
       "    }\n",
       "</style>\n",
       "<table border=\"1\" class=\"dataframe\">\n",
       "  <thead>\n",
       "    <tr style=\"text-align: right;\">\n",
       "      <th></th>\n",
       "      <th>text_cleaned</th>\n",
       "      <th>price_int</th>\n",
       "      <th>type_</th>\n",
       "      <th>category_id</th>\n",
       "    </tr>\n",
       "  </thead>\n",
       "  <tbody>\n",
       "    <tr>\n",
       "      <th>0</th>\n",
       "      <td>ugreen data cable charger fast charging 3a mic...</td>\n",
       "      <td>59900</td>\n",
       "      <td>aksesoris-handphone</td>\n",
       "      <td>0</td>\n",
       "    </tr>\n",
       "    <tr>\n",
       "      <th>1</th>\n",
       "      <td>power adapter iphone usbc 20w fast charging ad...</td>\n",
       "      <td>115000</td>\n",
       "      <td>aksesoris-handphone</td>\n",
       "      <td>0</td>\n",
       "    </tr>\n",
       "    <tr>\n",
       "      <th>2</th>\n",
       "      <td>charger samsung super fast charging original a...</td>\n",
       "      <td>125000</td>\n",
       "      <td>aksesoris-handphone</td>\n",
       "      <td>0</td>\n",
       "    </tr>\n",
       "    <tr>\n",
       "      <th>3</th>\n",
       "      <td>tongsis bluetooth with tripod and rotation hol...</td>\n",
       "      <td>154875</td>\n",
       "      <td>aksesoris-handphone</td>\n",
       "      <td>0</td>\n",
       "    </tr>\n",
       "    <tr>\n",
       "      <th>4</th>\n",
       "      <td>gub p30 original holder hp dudukan ponsel alum...</td>\n",
       "      <td>108000</td>\n",
       "      <td>aksesoris-handphone</td>\n",
       "      <td>0</td>\n",
       "    </tr>\n",
       "  </tbody>\n",
       "</table>\n",
       "</div>"
      ],
      "text/plain": [
       "                                        text_cleaned  price_int  \\\n",
       "0  ugreen data cable charger fast charging 3a mic...      59900   \n",
       "1  power adapter iphone usbc 20w fast charging ad...     115000   \n",
       "2  charger samsung super fast charging original a...     125000   \n",
       "3  tongsis bluetooth with tripod and rotation hol...     154875   \n",
       "4  gub p30 original holder hp dudukan ponsel alum...     108000   \n",
       "\n",
       "                 type_  category_id  \n",
       "0  aksesoris-handphone            0  \n",
       "1  aksesoris-handphone            0  \n",
       "2  aksesoris-handphone            0  \n",
       "3  aksesoris-handphone            0  \n",
       "4  aksesoris-handphone            0  "
      ]
     },
     "execution_count": 29,
     "metadata": {},
     "output_type": "execute_result"
    }
   ],
   "source": [
    "df_cleaned.head()"
   ]
  },
  {
   "cell_type": "code",
   "execution_count": 30,
   "metadata": {
    "ExecuteTime": {
     "end_time": "2023-03-13T04:18:30.209953Z",
     "start_time": "2023-03-13T04:18:29.974102Z"
    }
   },
   "outputs": [],
   "source": [
    "df_group = df_cleaned.groupby('type_')['text_cleaned'].apply(list).reset_index(name='text_cleaned_collection')"
   ]
  },
  {
   "cell_type": "code",
   "execution_count": 31,
   "metadata": {},
   "outputs": [
    {
     "data": {
      "text/plain": [
       "stik          1782\n",
       "switch        1439\n",
       "nintendo      1337\n",
       "stick         1150\n",
       "ps4           1009\n",
       "              ... \n",
       "600rb            1\n",
       "600000           1\n",
       "ps3ps2ps4        1\n",
       "switchmlal       1\n",
       "1pasang          1\n",
       "Name: 0, Length: 3879, dtype: int64"
      ]
     },
     "execution_count": 31,
     "metadata": {},
     "output_type": "execute_result"
    }
   ],
   "source": [
    "x = \" \".join(list(set(df_group['text_cleaned_collection'].iloc[0]))).split()\n",
    "pd.DataFrame(x)[0].value_counts()"
   ]
  },
  {
   "cell_type": "code",
   "execution_count": 32,
   "metadata": {},
   "outputs": [
    {
     "data": {
      "text/html": [
       "<div>\n",
       "<style scoped>\n",
       "    .dataframe tbody tr th:only-of-type {\n",
       "        vertical-align: middle;\n",
       "    }\n",
       "\n",
       "    .dataframe tbody tr th {\n",
       "        vertical-align: top;\n",
       "    }\n",
       "\n",
       "    .dataframe thead th {\n",
       "        text-align: right;\n",
       "    }\n",
       "</style>\n",
       "<table border=\"1\" class=\"dataframe\">\n",
       "  <thead>\n",
       "    <tr style=\"text-align: right;\">\n",
       "      <th></th>\n",
       "      <th>type_</th>\n",
       "      <th>text_cleaned_collection</th>\n",
       "    </tr>\n",
       "  </thead>\n",
       "  <tbody>\n",
       "    <tr>\n",
       "      <th>0</th>\n",
       "      <td>aksesoris-game-console</td>\n",
       "      <td>stik stick joystick gamepad xbox one pc laptop...</td>\n",
       "    </tr>\n",
       "    <tr>\n",
       "      <th>1</th>\n",
       "      <td>aksesoris-handphone</td>\n",
       "      <td>tempered glass 9d oppo a7a9a5sa11k f9f11anti g...</td>\n",
       "    </tr>\n",
       "    <tr>\n",
       "      <th>2</th>\n",
       "      <td>aksesoris-komputer-laptop</td>\n",
       "      <td>vention hdmi extender repeater amplifier boost...</td>\n",
       "    </tr>\n",
       "    <tr>\n",
       "      <th>3</th>\n",
       "      <td>aksesoris-mobile-gaming</td>\n",
       "      <td>stik stick joystick gamepad xbox one pc laptop...</td>\n",
       "    </tr>\n",
       "    <tr>\n",
       "      <th>4</th>\n",
       "      <td>aksesoris-pc-gaming</td>\n",
       "      <td>razer deathadder v2 x hyperspeed  ergonomic wi...</td>\n",
       "    </tr>\n",
       "  </tbody>\n",
       "</table>\n",
       "</div>"
      ],
      "text/plain": [
       "                       type_  \\\n",
       "0     aksesoris-game-console   \n",
       "1        aksesoris-handphone   \n",
       "2  aksesoris-komputer-laptop   \n",
       "3    aksesoris-mobile-gaming   \n",
       "4        aksesoris-pc-gaming   \n",
       "\n",
       "                             text_cleaned_collection  \n",
       "0  stik stick joystick gamepad xbox one pc laptop...  \n",
       "1  tempered glass 9d oppo a7a9a5sa11k f9f11anti g...  \n",
       "2  vention hdmi extender repeater amplifier boost...  \n",
       "3  stik stick joystick gamepad xbox one pc laptop...  \n",
       "4  razer deathadder v2 x hyperspeed  ergonomic wi...  "
      ]
     },
     "execution_count": 32,
     "metadata": {},
     "output_type": "execute_result"
    }
   ],
   "source": [
    "df_group[\"text_cleaned_collection\"] = df_group[\"text_cleaned_collection\"].apply(lambda x: list(set(x)))\n",
    "df_group[\"text_cleaned_collection\"] = df_group[\"text_cleaned_collection\"].apply(lambda x: \" \".join(x))\n",
    "df_group.head()"
   ]
  },
  {
   "cell_type": "code",
   "execution_count": 33,
   "metadata": {},
   "outputs": [
    {
     "data": {
      "text/plain": [
       "48307"
      ]
     },
     "execution_count": 33,
     "metadata": {},
     "output_type": "execute_result"
    }
   ],
   "source": [
    "len(df_group['text_cleaned_collection'].iloc[0].split())"
   ]
  },
  {
   "cell_type": "code",
   "execution_count": 34,
   "metadata": {
    "ExecuteTime": {
     "end_time": "2023-03-13T04:22:02.877630Z",
     "start_time": "2023-03-13T04:21:59.006167Z"
    }
   },
   "outputs": [],
   "source": [
    "tfidf = TfidfVectorizer(sublinear_tf=True, lowercase=True)\n",
    "fitted_vectorizer = tfidf.fit(df_group[\"text_cleaned_collection\"])\n",
    "tfidf_vectorizer_vectors = fitted_vectorizer.transform(df_group[\"text_cleaned_collection\"])"
   ]
  },
  {
   "cell_type": "code",
   "execution_count": 35,
   "metadata": {
    "ExecuteTime": {
     "end_time": "2023-03-13T04:22:02.911140Z",
     "start_time": "2023-03-13T04:22:02.885947Z"
    }
   },
   "outputs": [],
   "source": [
    "def extract_keywords_tfidf(doc, tfidf : TfidfVectorizer, topk=10):\n",
    "    vec = tfidf.transform([doc])\n",
    "    vocab = tfidf.get_feature_names_out()\n",
    "    sorted_tfidf = vec.toarray().argsort()\n",
    "    return [vocab[idx] for idx in reversed(sorted_tfidf[0, -topk:])]"
   ]
  },
  {
   "cell_type": "code",
   "execution_count": 36,
   "metadata": {
    "ExecuteTime": {
     "end_time": "2023-03-13T04:22:21.780498Z",
     "start_time": "2023-03-13T04:22:18.174935Z"
    }
   },
   "outputs": [],
   "source": [
    "MAX_KEYWORDS = 20\n",
    "df_group[\"important_keywords\"] = df_group[\"text_cleaned_collection\"].apply(lambda text:\" \".join(extract_keywords_tfidf(text, tfidf, topk=MAX_KEYWORDS)))"
   ]
  },
  {
   "cell_type": "code",
   "execution_count": 37,
   "metadata": {
    "ExecuteTime": {
     "end_time": "2023-03-13T04:22:21.829302Z",
     "start_time": "2023-03-13T04:22:21.780498Z"
    }
   },
   "outputs": [
    {
     "data": {
      "text/html": [
       "<div>\n",
       "<style scoped>\n",
       "    .dataframe tbody tr th:only-of-type {\n",
       "        vertical-align: middle;\n",
       "    }\n",
       "\n",
       "    .dataframe tbody tr th {\n",
       "        vertical-align: top;\n",
       "    }\n",
       "\n",
       "    .dataframe thead th {\n",
       "        text-align: right;\n",
       "    }\n",
       "</style>\n",
       "<table border=\"1\" class=\"dataframe\">\n",
       "  <thead>\n",
       "    <tr style=\"text-align: right;\">\n",
       "      <th></th>\n",
       "      <th>type_</th>\n",
       "      <th>text_cleaned_collection</th>\n",
       "      <th>important_keywords</th>\n",
       "    </tr>\n",
       "  </thead>\n",
       "  <tbody>\n",
       "    <tr>\n",
       "      <th>0</th>\n",
       "      <td>aksesoris-game-console</td>\n",
       "      <td>stik stick joystick gamepad xbox one pc laptop...</td>\n",
       "      <td>joycon psp ds4 ps3 ps2 joy con dualsense plays...</td>\n",
       "    </tr>\n",
       "    <tr>\n",
       "      <th>1</th>\n",
       "      <td>aksesoris-handphone</td>\n",
       "      <td>tempered glass 9d oppo a7a9a5sa11k f9f11anti g...</td>\n",
       "      <td>24a tongsis qc30 privacy ringke cafule qc hydr...</td>\n",
       "    </tr>\n",
       "    <tr>\n",
       "      <th>2</th>\n",
       "      <td>aksesoris-komputer-laptop</td>\n",
       "      <td>vention hdmi extender repeater amplifier boost...</td>\n",
       "      <td>19v 342a writing tulis webcam 237a a2681 325a ...</td>\n",
       "    </tr>\n",
       "    <tr>\n",
       "      <th>3</th>\n",
       "      <td>aksesoris-mobile-gaming</td>\n",
       "      <td>stik stick joystick gamepad xbox one pc laptop...</td>\n",
       "      <td>sinyal gamepad ipega bosetech repeater gladius...</td>\n",
       "    </tr>\n",
       "    <tr>\n",
       "      <th>4</th>\n",
       "      <td>aksesoris-pc-gaming</td>\n",
       "      <td>razer deathadder v2 x hyperspeed  ergonomic wi...</td>\n",
       "      <td>xierra tkl meca mousepad chair vortexseries ar...</td>\n",
       "    </tr>\n",
       "  </tbody>\n",
       "</table>\n",
       "</div>"
      ],
      "text/plain": [
       "                       type_  \\\n",
       "0     aksesoris-game-console   \n",
       "1        aksesoris-handphone   \n",
       "2  aksesoris-komputer-laptop   \n",
       "3    aksesoris-mobile-gaming   \n",
       "4        aksesoris-pc-gaming   \n",
       "\n",
       "                             text_cleaned_collection  \\\n",
       "0  stik stick joystick gamepad xbox one pc laptop...   \n",
       "1  tempered glass 9d oppo a7a9a5sa11k f9f11anti g...   \n",
       "2  vention hdmi extender repeater amplifier boost...   \n",
       "3  stik stick joystick gamepad xbox one pc laptop...   \n",
       "4  razer deathadder v2 x hyperspeed  ergonomic wi...   \n",
       "\n",
       "                                  important_keywords  \n",
       "0  joycon psp ds4 ps3 ps2 joy con dualsense plays...  \n",
       "1  24a tongsis qc30 privacy ringke cafule qc hydr...  \n",
       "2  19v 342a writing tulis webcam 237a a2681 325a ...  \n",
       "3  sinyal gamepad ipega bosetech repeater gladius...  \n",
       "4  xierra tkl meca mousepad chair vortexseries ar...  "
      ]
     },
     "execution_count": 37,
     "metadata": {},
     "output_type": "execute_result"
    }
   ],
   "source": [
    "df_group.head()"
   ]
  },
  {
   "cell_type": "markdown",
   "metadata": {},
   "source": [
    "## Calculate Similarity (Bebas pake apa aja)"
   ]
  },
  {
   "cell_type": "code",
   "execution_count": 38,
   "metadata": {
    "ExecuteTime": {
     "end_time": "2023-03-13T04:22:21.853376Z",
     "start_time": "2023-03-13T04:22:21.834106Z"
    }
   },
   "outputs": [],
   "source": [
    "from thefuzz import fuzz\n",
    "from thefuzz import process"
   ]
  },
  {
   "cell_type": "code",
   "execution_count": 3,
   "metadata": {
    "ExecuteTime": {
     "end_time": "2023-03-13T04:22:21.877752Z",
     "start_time": "2023-03-13T04:22:21.863000Z"
    }
   },
   "outputs": [
    {
     "data": {
      "text/plain": [
       "[('New York Jets', 100), ('New York Giants', 79)]"
      ]
     },
     "execution_count": 3,
     "metadata": {},
     "output_type": "execute_result"
    }
   ],
   "source": [
    "choices = [\"Atlanta Falcons\", \"New York Jets\", \"New York Giants\", \"Dallas Cowboys\"]\n",
    "process.extract(\"new york jets!\", choices, limit=2)"
   ]
  },
  {
   "cell_type": "code",
   "execution_count": 83,
   "metadata": {
    "ExecuteTime": {
     "end_time": "2023-03-13T04:22:21.895832Z",
     "start_time": "2023-03-13T04:22:21.879116Z"
    }
   },
   "outputs": [
    {
     "data": {
      "text/plain": [
       "'microsoft office 2016 pro plus original lifetime - for win pc/laptop - dvd'"
      ]
     },
     "execution_count": 83,
     "metadata": {},
     "output_type": "execute_result"
    }
   ],
   "source": [
    "test_title = \"Microsoft Office 2016 Pro Plus Original Lifetime - For Win PC/Laptop - DVD\"\n",
    "test_title = test_title.lower()\n",
    "keywords = df_group[\"important_keywords\"]\n",
    "test_title"
   ]
  },
  {
   "cell_type": "code",
   "execution_count": 84,
   "metadata": {
    "ExecuteTime": {
     "end_time": "2023-03-13T04:22:23.014501Z",
     "start_time": "2023-03-13T04:22:21.902494Z"
    }
   },
   "outputs": [
    {
     "data": {
      "text/plain": [
       "[('e27 downlight hannochs bohlam multipack 6500k sorot 8w cob mycare 9w 7w outbow luby inlite bulb 11w 4000k tenaga cdl',\n",
       "  35,\n",
       "  15)]"
      ]
     },
     "execution_count": 84,
     "metadata": {},
     "output_type": "execute_result"
    }
   ],
   "source": [
    "process.extract(test_title, keywords, limit=1) # Text, Score, Index"
   ]
  },
  {
   "cell_type": "code",
   "execution_count": 42,
   "metadata": {
    "ExecuteTime": {
     "end_time": "2023-03-13T04:22:23.061286Z",
     "start_time": "2023-03-13T04:22:23.016990Z"
    }
   },
   "outputs": [
    {
     "data": {
      "text/html": [
       "<div>\n",
       "<style scoped>\n",
       "    .dataframe tbody tr th:only-of-type {\n",
       "        vertical-align: middle;\n",
       "    }\n",
       "\n",
       "    .dataframe tbody tr th {\n",
       "        vertical-align: top;\n",
       "    }\n",
       "\n",
       "    .dataframe thead th {\n",
       "        text-align: right;\n",
       "    }\n",
       "</style>\n",
       "<table border=\"1\" class=\"dataframe\">\n",
       "  <thead>\n",
       "    <tr style=\"text-align: right;\">\n",
       "      <th></th>\n",
       "      <th>text_cleaned</th>\n",
       "      <th>type_</th>\n",
       "    </tr>\n",
       "  </thead>\n",
       "  <tbody>\n",
       "    <tr>\n",
       "      <th>23356</th>\n",
       "      <td>miyako kipas angin kad 927 b</td>\n",
       "      <td>alat-pendingin-ruangan</td>\n",
       "    </tr>\n",
       "    <tr>\n",
       "      <th>74914</th>\n",
       "      <td>kacamata 3d vr shinecon  virtual reality shinecon</td>\n",
       "      <td>virtual-reality</td>\n",
       "    </tr>\n",
       "    <tr>\n",
       "      <th>31351</th>\n",
       "      <td>silent blender ly8001jx heavy duty blender smo...</td>\n",
       "      <td>elektronik-dapur</td>\n",
       "    </tr>\n",
       "    <tr>\n",
       "      <th>92386</th>\n",
       "      <td>foomee va03  va02 mouse wired gaming original ...</td>\n",
       "      <td>aksesoris-pc-gaming</td>\n",
       "    </tr>\n",
       "    <tr>\n",
       "      <th>39653</th>\n",
       "      <td>lampu led strip anti konslet 2835 10cm  led st...</td>\n",
       "      <td>lampu</td>\n",
       "    </tr>\n",
       "  </tbody>\n",
       "</table>\n",
       "</div>"
      ],
      "text/plain": [
       "                                            text_cleaned  \\\n",
       "23356                       miyako kipas angin kad 927 b   \n",
       "74914  kacamata 3d vr shinecon  virtual reality shinecon   \n",
       "31351  silent blender ly8001jx heavy duty blender smo...   \n",
       "92386  foomee va03  va02 mouse wired gaming original ...   \n",
       "39653  lampu led strip anti konslet 2835 10cm  led st...   \n",
       "\n",
       "                        type_  \n",
       "23356  alat-pendingin-ruangan  \n",
       "74914         virtual-reality  \n",
       "31351        elektronik-dapur  \n",
       "92386     aksesoris-pc-gaming  \n",
       "39653                   lampu  "
      ]
     },
     "execution_count": 42,
     "metadata": {},
     "output_type": "execute_result"
    }
   ],
   "source": [
    "df_test = pd.DataFrame()\n",
    "df_test[\"text_cleaned\"] = X_test.copy()\n",
    "df_test[\"type_\"] = y_test.copy()\n",
    "df_test.head()"
   ]
  },
  {
   "cell_type": "code",
   "execution_count": 88,
   "metadata": {
    "ExecuteTime": {
     "end_time": "2023-03-13T04:22:36.584278Z",
     "start_time": "2023-03-13T04:22:23.062568Z"
    }
   },
   "outputs": [
    {
     "data": {
      "text/html": [
       "<div>\n",
       "<style scoped>\n",
       "    .dataframe tbody tr th:only-of-type {\n",
       "        vertical-align: middle;\n",
       "    }\n",
       "\n",
       "    .dataframe tbody tr th {\n",
       "        vertical-align: top;\n",
       "    }\n",
       "\n",
       "    .dataframe thead th {\n",
       "        text-align: right;\n",
       "    }\n",
       "</style>\n",
       "<table border=\"1\" class=\"dataframe\">\n",
       "  <thead>\n",
       "    <tr style=\"text-align: right;\">\n",
       "      <th></th>\n",
       "      <th>text_cleaned</th>\n",
       "      <th>type_</th>\n",
       "      <th>predict_score</th>\n",
       "      <th>predict_label</th>\n",
       "    </tr>\n",
       "  </thead>\n",
       "  <tbody>\n",
       "    <tr>\n",
       "      <th>23356</th>\n",
       "      <td>miyako kipas angin kad 927 b</td>\n",
       "      <td>alat-pendingin-ruangan</td>\n",
       "      <td>86</td>\n",
       "      <td>alat-pendingin-ruangan</td>\n",
       "    </tr>\n",
       "    <tr>\n",
       "      <th>74914</th>\n",
       "      <td>kacamata 3d vr shinecon  virtual reality shinecon</td>\n",
       "      <td>virtual-reality</td>\n",
       "      <td>86</td>\n",
       "      <td>virtual-reality</td>\n",
       "    </tr>\n",
       "    <tr>\n",
       "      <th>31351</th>\n",
       "      <td>silent blender ly8001jx heavy duty blender smo...</td>\n",
       "      <td>elektronik-dapur</td>\n",
       "      <td>86</td>\n",
       "      <td>elektronik-dapur</td>\n",
       "    </tr>\n",
       "    <tr>\n",
       "      <th>92386</th>\n",
       "      <td>foomee va03  va02 mouse wired gaming original ...</td>\n",
       "      <td>aksesoris-pc-gaming</td>\n",
       "      <td>36</td>\n",
       "      <td>aksesoris-pc-gaming</td>\n",
       "    </tr>\n",
       "    <tr>\n",
       "      <th>39653</th>\n",
       "      <td>lampu led strip anti konslet 2835 10cm  led st...</td>\n",
       "      <td>lampu</td>\n",
       "      <td>41</td>\n",
       "      <td>virtual-reality</td>\n",
       "    </tr>\n",
       "  </tbody>\n",
       "</table>\n",
       "</div>"
      ],
      "text/plain": [
       "                                            text_cleaned  \\\n",
       "23356                       miyako kipas angin kad 927 b   \n",
       "74914  kacamata 3d vr shinecon  virtual reality shinecon   \n",
       "31351  silent blender ly8001jx heavy duty blender smo...   \n",
       "92386  foomee va03  va02 mouse wired gaming original ...   \n",
       "39653  lampu led strip anti konslet 2835 10cm  led st...   \n",
       "\n",
       "                        type_  predict_score           predict_label  \n",
       "23356  alat-pendingin-ruangan             86  alat-pendingin-ruangan  \n",
       "74914         virtual-reality             86         virtual-reality  \n",
       "31351        elektronik-dapur             86        elektronik-dapur  \n",
       "92386     aksesoris-pc-gaming             36     aksesoris-pc-gaming  \n",
       "39653                   lampu             41         virtual-reality  "
      ]
     },
     "execution_count": 88,
     "metadata": {},
     "output_type": "execute_result"
    }
   ],
   "source": [
    "df_test[[\"predict_score\", \"predict_label\"]] = df_test[\"text_cleaned\"].apply(lambda x: pd.Series(process.extract(x, keywords, limit=1)[0][1:]))\n",
    "df_test[\"predict_label\"] = df_test[\"predict_label\"].apply(lambda x: df_group.type_[x])\n",
    "df_test.head()\n",
    "# takes about 109 minutes"
   ]
  },
  {
   "cell_type": "code",
   "execution_count": 90,
   "metadata": {},
   "outputs": [
    {
     "name": "stdout",
     "output_type": "stream",
     "text": [
      "                           precision    recall  f1-score   support\n",
      "\n",
      "   aksesoris-game-console       0.81      0.30      0.44      3781\n",
      "      aksesoris-handphone       0.61      0.50      0.55      2864\n",
      "aksesoris-komputer-laptop       0.26      0.28      0.27      1374\n",
      "  aksesoris-mobile-gaming       0.58      0.45      0.51      2044\n",
      "      aksesoris-pc-gaming       0.31      0.35      0.33      1373\n",
      "         aksesoris-tablet       0.24      0.31      0.27       968\n",
      "   alat-pendingin-ruangan       0.56      0.44      0.49      1779\n",
      "                    audio       0.24      0.47      0.31       728\n",
      "                  cd-game       0.10      0.25      0.15       627\n",
      "          desktop-mini-pc       0.57      0.40      0.47      2056\n",
      "         elektronik-dapur       0.58      0.45      0.51      1714\n",
      "  elektronik-rumah-tangga       0.51      0.43      0.47      1766\n",
      "             game-console       0.16      0.37      0.22       598\n",
      "                handphone       0.62      0.57      0.60      1277\n",
      "          komponen-laptop       0.25      0.85      0.39       434\n",
      "                    lampu       0.58      0.73      0.65      1088\n",
      "                   laptop       0.39      0.50      0.43      1159\n",
      "         pc-laptop-gaming       0.30      0.74      0.42       556\n",
      "                  printer       0.75      0.72      0.73      1549\n",
      "                   tablet       0.15      0.21      0.18       735\n",
      "          virtual-reality       0.87      0.71      0.78      1749\n",
      "         wearable-devices       0.64      0.54      0.58      1394\n",
      "\n",
      "                 accuracy                           0.46     31613\n",
      "                macro avg       0.46      0.48      0.44     31613\n",
      "             weighted avg       0.55      0.46      0.48     31613\n",
      "\n"
     ]
    }
   ],
   "source": [
    "from sklearn.metrics import classification_report\n",
    "\n",
    "print(classification_report(df_test['predict_label'], df_test['type_']))"
   ]
  },
  {
   "attachments": {},
   "cell_type": "markdown",
   "metadata": {},
   "source": [
    "### Another option using cos similiarity + fuzzy wuzzy"
   ]
  },
  {
   "cell_type": "code",
   "execution_count": 95,
   "metadata": {},
   "outputs": [
    {
     "data": {
      "text/plain": [
       "(0.88, 0.4250960349422805, 0.5160768279538245)"
      ]
     },
     "execution_count": 95,
     "metadata": {},
     "output_type": "execute_result"
    }
   ],
   "source": [
    "from thefuzz import fuzz\n",
    "from thefuzz import process\n",
    "import numpy as np\n",
    "\n",
    "source_title = \"iphone 4\"\n",
    "source_price = 4000000\n",
    "target_title = \"iphone 11\"\n",
    "target_price = 10000000\n",
    "title_similarity = fuzz.partial_token_sort_ratio(source_title, target_title) / 100\n",
    "price_range = 1 / np.cosh((target_price / source_price) - 1) \n",
    "title_similarity, price_range, (0.2 * title_similarity + 0.8 * price_range)"
   ]
  }
 ],
 "metadata": {
  "kernelspec": {
   "display_name": "rakamin",
   "language": "python",
   "name": "python3"
  },
  "language_info": {
   "codemirror_mode": {
    "name": "ipython",
    "version": 3
   },
   "file_extension": ".py",
   "mimetype": "text/x-python",
   "name": "python",
   "nbconvert_exporter": "python",
   "pygments_lexer": "ipython3",
   "version": "3.9.16"
  }
 },
 "nbformat": 4,
 "nbformat_minor": 2
}
