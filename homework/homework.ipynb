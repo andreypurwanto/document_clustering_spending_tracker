{
 "cells": [
  {
   "cell_type": "code",
   "execution_count": 5,
   "metadata": {
    "ExecuteTime": {
     "end_time": "2023-03-13T04:13:38.613840Z",
     "start_time": "2023-03-13T04:13:37.256167Z"
    }
   },
   "outputs": [],
   "source": [
    "import os\n",
    "import pandas as pd\n",
    "import numpy as np\n",
    "from scipy.stats import randint\n",
    "import seaborn as sns # used for plot interactive graph. \n",
    "import matplotlib.pyplot as plt\n",
    "import seaborn as sns\n",
    "from sklearn.feature_extraction.text import TfidfVectorizer\n",
    "from sklearn.model_selection import train_test_split\n",
    "from sklearn.naive_bayes import MultinomialNB\n",
    "from sklearn.linear_model import LogisticRegression\n",
    "from sklearn.ensemble import RandomForestClassifier\n",
    "from sklearn.model_selection import cross_val_score\n",
    "import re\n",
    "import string\n",
    "#import warnings\n",
    "#warnings.filterwarnings(\"ignore\", category=FutureWarning)"
   ]
  },
  {
   "attachments": {},
   "cell_type": "markdown",
   "metadata": {},
   "source": [
    "## Load Data and preprocess"
   ]
  },
  {
   "cell_type": "code",
   "execution_count": 6,
   "metadata": {},
   "outputs": [],
   "source": [
    "df = pd.read_csv('homework_train.csv')"
   ]
  },
  {
   "cell_type": "code",
   "execution_count": 7,
   "metadata": {
    "ExecuteTime": {
     "end_time": "2023-03-13T04:13:39.258637Z",
     "start_time": "2023-03-13T04:13:39.227696Z"
    }
   },
   "outputs": [],
   "source": [
    "def text_cleaning(text:str)->str:\n",
    "    '''Make text lowercase, remove text in square brackets,remove links,remove punctuation\n",
    "    and remove words containing numbers.'''\n",
    "    text = str(text).lower()\n",
    "    text = re.sub('\\[.*?\\]', '', text)\n",
    "    text = re.sub('https?://\\S+|www\\.\\S+', '', text)\n",
    "    text = re.sub('<.*?>+', '', text)\n",
    "    text = re.sub('[%s]' % re.escape(string.punctuation), '', text)\n",
    "    text = re.sub('\\n', '', text)\n",
    "    # text = re.sub('\\w*\\d\\w*', '', text)\n",
    "    return text\n",
    "\n",
    "def price_to_int(text:str):\n",
    "    text = text.replace('Rp','').replace('.','')\n",
    "    return int(text)"
   ]
  },
  {
   "cell_type": "code",
   "execution_count": 8,
   "metadata": {
    "ExecuteTime": {
     "end_time": "2023-03-13T04:13:43.929611Z",
     "start_time": "2023-03-13T04:13:39.258637Z"
    }
   },
   "outputs": [],
   "source": [
    "df['text_cleaned'] = df['text'].apply(lambda x:text_cleaning(x))\n",
    "df['price_int'] = df['price'].apply(lambda x:price_to_int(x))"
   ]
  },
  {
   "cell_type": "code",
   "execution_count": 9,
   "metadata": {
    "ExecuteTime": {
     "end_time": "2023-03-13T04:13:43.990189Z",
     "start_time": "2023-03-13T04:13:43.936146Z"
    }
   },
   "outputs": [],
   "source": [
    "df_cleaned = df[['text_cleaned','price_int','type_']]"
   ]
  },
  {
   "attachments": {},
   "cell_type": "markdown",
   "metadata": {},
   "source": [
    "## use ML model"
   ]
  },
  {
   "cell_type": "code",
   "execution_count": 10,
   "metadata": {
    "ExecuteTime": {
     "end_time": "2023-03-13T04:13:48.750747Z",
     "start_time": "2023-03-13T04:13:48.685154Z"
    }
   },
   "outputs": [],
   "source": [
    "X = df_cleaned[['text_cleaned','price_int']] # Collection of documents\n",
    "y = df_cleaned['type_'] # Target or the labels we want to predict (i.e., the 13 different complaints of products)\n",
    "X_train, X_val, y_train, y_val = train_test_split(X, y, \n",
    "                                                    test_size=0.25,\n",
    "                                                    random_state = 0)\n"
   ]
  },
  {
   "cell_type": "code",
   "execution_count": 11,
   "metadata": {},
   "outputs": [],
   "source": [
    "tfidf = TfidfVectorizer(sublinear_tf=True, \n",
    "                        min_df=5,\n",
    "                        max_features=1000)\n",
    "\n",
    "fitted_vectorizer = tfidf.fit(X_train['text_cleaned'])\n",
    "tfidf_vectorizer_vectors = fitted_vectorizer.transform(X_train['text_cleaned']).toarray()"
   ]
  },
  {
   "cell_type": "code",
   "execution_count": 12,
   "metadata": {},
   "outputs": [],
   "source": [
    "model = LogisticRegression().fit(tfidf_vectorizer_vectors, y_train)"
   ]
  },
  {
   "attachments": {},
   "cell_type": "markdown",
   "metadata": {},
   "source": [
    "## Check model"
   ]
  },
  {
   "cell_type": "code",
   "execution_count": null,
   "metadata": {},
   "outputs": [
    {
     "name": "stdout",
     "output_type": "stream",
     "text": [
      "                              precision    recall  f1-score   support\n",
      "\n",
      "      aksesoris-game-console       0.83      0.74      0.78      1229\n",
      "         aksesoris-handphone       0.59      0.71      0.64       981\n",
      "            aksesoris-kamera       0.74      0.67      0.70      1273\n",
      "   aksesoris-komputer-laptop       0.72      0.69      0.70      1200\n",
      "     aksesoris-mobile-gaming       0.81      0.78      0.80      1262\n",
      "         aksesoris-pc-gaming       0.84      0.82      0.83      1188\n",
      "            aksesoris-tablet       0.74      0.63      0.68      1052\n",
      "      alat-pendingin-ruangan       0.89      0.89      0.89      1345\n",
      "                       audio       0.73      0.74      0.74      1243\n",
      "      baterai-charger-kamera       0.85      0.88      0.86      1204\n",
      "                     cd-game       0.80      0.86      0.83      1269\n",
      "       cleaning-tools-kamera       0.92      0.85      0.89      1264\n",
      "             desktop-mini-pc       0.83      0.79      0.81      1279\n",
      "            elektronik-dapur       0.87      0.86      0.87      1161\n",
      "           elektronik-kantor       0.75      0.73      0.74      1208\n",
      "     elektronik-rumah-tangga       0.93      0.84      0.88      1214\n",
      "                game-console       0.72      0.65      0.68      1199\n",
      "                   handphone       0.82      0.85      0.83       995\n",
      "               kabel-adaptor       0.76      0.85      0.80      1292\n",
      "               kamera-analog       0.82      0.73      0.77      1203\n",
      "              kamera-digital       0.75      0.79      0.77      1255\n",
      "            kamera-pengintai       0.92      0.92      0.92      1193\n",
      "          komponen-handphone       0.75      0.81      0.78      1272\n",
      "           komponen-komputer       0.83      0.81      0.82      1264\n",
      "             komponen-laptop       0.90      0.87      0.89      1254\n",
      "             komponen-tablet       0.81      0.73      0.77      1247\n",
      "                       lampu       0.90      0.94      0.92      1248\n",
      "                      laptop       0.88      0.93      0.91      1206\n",
      "             lensa-aksesoris       0.82      0.86      0.84      1187\n",
      "             lighting-studio       0.84      0.85      0.84      1286\n",
      "      media-penyimpanan-data       0.91      0.92      0.92      1214\n",
      "                media-player       0.83      0.71      0.77      1217\n",
      "                 memory-card       0.95      0.88      0.91      1297\n",
      "                     monitor       0.92      0.92      0.92      1251\n",
      "                  networking       0.81      0.82      0.81      1230\n",
      "       nomor-perdana-voucher       0.95      0.90      0.92      1219\n",
      "            pc-laptop-gaming       0.87      0.84      0.85      1162\n",
      "perangkat-elektronik-lainnya       0.39      0.46      0.42      1250\n",
      "                  power-bank       0.95      0.91      0.93      1245\n",
      "                     printer       0.92      0.88      0.90      1298\n",
      "                    software       0.39      0.75      0.51      1218\n",
      "                      tablet       0.79      0.62      0.69       894\n",
      "             tas-case-kamera       0.81      0.84      0.82      1229\n",
      "                     telepon       0.82      0.77      0.79      1261\n",
      "                tv-aksesoris       0.87      0.84      0.85      1205\n",
      "                       video       0.75      0.67      0.71      1190\n",
      "             virtual-reality       0.96      0.88      0.91      1236\n",
      "            wearable-devices       0.90      0.88      0.89       990\n",
      "\n",
      "                    accuracy                           0.81     58079\n",
      "                   macro avg       0.82      0.80      0.81     58079\n",
      "                weighted avg       0.82      0.81      0.81     58079\n",
      "\n"
     ]
    }
   ],
   "source": [
    "from sklearn.metrics import classification_report\n",
    "\n",
    "tfidf_vectorizer_vectors_test = fitted_vectorizer.transform(X_val['text_cleaned']).toarray()\n",
    "y_pred = model.predict(tfidf_vectorizer_vectors_test)\n",
    "print(classification_report(y_val, y_pred, target_names=model.classes_))"
   ]
  },
  {
   "attachments": {},
   "cell_type": "markdown",
   "metadata": {},
   "source": [
    "## Predict on test data"
   ]
  },
  {
   "cell_type": "code",
   "execution_count": null,
   "metadata": {},
   "outputs": [],
   "source": [
    "test_data = pd.read_csv('homework_test.csv')"
   ]
  },
  {
   "cell_type": "code",
   "execution_count": null,
   "metadata": {},
   "outputs": [],
   "source": [
    "def text_cleaning(text:str)->str:\n",
    "    '''Make text lowercase, remove text in square brackets,remove links,remove punctuation\n",
    "    and remove words containing numbers.'''\n",
    "    text = str(text).lower()\n",
    "    text = re.sub('\\[.*?\\]', '', text)\n",
    "    text = re.sub('https?://\\S+|www\\.\\S+', '', text)\n",
    "    text = re.sub('<.*?>+', '', text)\n",
    "    text = re.sub('[%s]' % re.escape(string.punctuation), '', text)\n",
    "    text = re.sub('\\n', '', text)\n",
    "    # text = re.sub('\\w*\\d\\w*', '', text)\n",
    "    return text\n",
    "\n",
    "def price_to_int(text:str):\n",
    "    text = text.replace('Rp','').replace('.','')\n",
    "    return int(text)"
   ]
  },
  {
   "cell_type": "code",
   "execution_count": null,
   "metadata": {},
   "outputs": [],
   "source": [
    "test_data['text_cleaned'] = test_data['text'].apply(lambda x:text_cleaning(x))\n",
    "test_data['price_int'] = test_data['price'].apply(lambda x:price_to_int(x))"
   ]
  },
  {
   "cell_type": "code",
   "execution_count": null,
   "metadata": {},
   "outputs": [],
   "source": [
    "test_data = test_data[['index','text_cleaned']] "
   ]
  },
  {
   "cell_type": "code",
   "execution_count": null,
   "metadata": {},
   "outputs": [],
   "source": [
    "tfidf_vectorizer_vectors_test = fitted_vectorizer.transform(test_data['text_cleaned']).toarray()\n",
    "y_pred = model.predict(tfidf_vectorizer_vectors_test)"
   ]
  },
  {
   "cell_type": "code",
   "execution_count": null,
   "metadata": {},
   "outputs": [
    {
     "name": "stderr",
     "output_type": "stream",
     "text": [
      "C:\\Users\\Andrey\\AppData\\Local\\Temp\\ipykernel_27496\\4107617879.py:1: SettingWithCopyWarning: \n",
      "A value is trying to be set on a copy of a slice from a DataFrame.\n",
      "Try using .loc[row_indexer,col_indexer] = value instead\n",
      "\n",
      "See the caveats in the documentation: https://pandas.pydata.org/pandas-docs/stable/user_guide/indexing.html#returning-a-view-versus-a-copy\n",
      "  test_data['pred'] = y_pred\n"
     ]
    }
   ],
   "source": [
    "test_data['pred'] = y_pred"
   ]
  },
  {
   "cell_type": "code",
   "execution_count": null,
   "metadata": {},
   "outputs": [],
   "source": [
    "test_data[['index','pred']].to_csv('result_submission.csv',index=False)"
   ]
  }
 ],
 "metadata": {
  "kernelspec": {
   "display_name": "rakamin",
   "language": "python",
   "name": "python3"
  },
  "language_info": {
   "codemirror_mode": {
    "name": "ipython",
    "version": 3
   },
   "file_extension": ".py",
   "mimetype": "text/x-python",
   "name": "python",
   "nbconvert_exporter": "python",
   "pygments_lexer": "ipython3",
   "version": "3.9.16"
  }
 },
 "nbformat": 4,
 "nbformat_minor": 2
}
