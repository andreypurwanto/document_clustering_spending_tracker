{
 "cells": [
  {
   "cell_type": "code",
   "execution_count": 1,
   "metadata": {},
   "outputs": [],
   "source": [
    "import os\n",
    "import pandas as pd\n",
    "import re\n",
    "import string"
   ]
  },
  {
   "cell_type": "code",
   "execution_count": 2,
   "metadata": {},
   "outputs": [],
   "source": [
    "def read_txt_to_str(path:str)->str:\n",
    "    data = ''\n",
    "    try:\n",
    "        my_file = open(path, \"r\")\n",
    "        data = my_file.read().replace('\\n', ' ')\n",
    "        my_file.close()\n",
    "        return data\n",
    "    except Exception as e:\n",
    "        print(f'error {path}, {e}')\n",
    "        return data"
   ]
  },
  {
   "cell_type": "code",
   "execution_count": 3,
   "metadata": {},
   "outputs": [
    {
     "name": "stdout",
     "output_type": "stream",
     "text": [
      "error c:\\Users\\Andrey\\Documents\\exploration\\temp\\document_clustering_spending_tracker\\document_classification_2\\news_data\\sport\\199.txt, 'utf-8' codec can't decode byte 0xa3 in position 257: invalid start byte\n"
     ]
    }
   ],
   "source": [
    "folder_name = ['business','entertainment','politics','sport','tech']\n",
    "res = {}\n",
    "temp_to_df = []\n",
    "for folder in folder_name:\n",
    "    dir_path = os.path.join(os.getcwd(),'news_data',folder)\n",
    "    res_temp = []\n",
    "    for path in os.listdir(dir_path):\n",
    "        if os.path.isfile(os.path.join(dir_path, path)):\n",
    "            str_res = read_txt_to_str(os.path.join(dir_path,path))\n",
    "            res_temp.append(str_res)\n",
    "            temp_to_df.append([str_res,folder])\n",
    "    res[folder] = res_temp "
   ]
  },
  {
   "cell_type": "code",
   "execution_count": 4,
   "metadata": {},
   "outputs": [],
   "source": [
    "df = pd.DataFrame(temp_to_df,columns=['text','cat'])"
   ]
  },
  {
   "cell_type": "code",
   "execution_count": 5,
   "metadata": {},
   "outputs": [
    {
     "name": "stderr",
     "output_type": "stream",
     "text": [
      "[nltk_data] Downloading package wordnet to\n",
      "[nltk_data]     C:\\Users\\Andrey\\AppData\\Roaming\\nltk_data...\n",
      "[nltk_data]   Package wordnet is already up-to-date!\n",
      "[nltk_data] Downloading package punkt to\n",
      "[nltk_data]     C:\\Users\\Andrey\\AppData\\Roaming\\nltk_data...\n",
      "[nltk_data]   Package punkt is already up-to-date!\n"
     ]
    }
   ],
   "source": [
    "import nltk\n",
    "\n",
    "nltk.download('wordnet') # for download to this path\n",
    "nltk.download('punkt')\n",
    "nltk.data.path.append('corpora')\n",
    "nltk.data.path.append('tokenizers')\n",
    "\n",
    "try:\n",
    "    from nltk.stem.wordnet import WordNetLemmatizer\n",
    "    lemmatizer = WordNetLemmatizer()\n",
    "    def lemmatize(text : str) -> str:\n",
    "        return lemmatizer.lemmatize(text)\n",
    "except Exception as e:\n",
    "    print(f'failed to load WordNetLemmatizer {e}')\n",
    "    def lemmatize(text : str) -> str:\n",
    "        return text"
   ]
  },
  {
   "cell_type": "code",
   "execution_count": 6,
   "metadata": {},
   "outputs": [],
   "source": [
    "try:\n",
    "    from nltk.tokenize import word_tokenize\n",
    "except Exception as e:\n",
    "    print(f'error load nltk tokenize {e}')\n",
    "    def word_tokenize(text:str)->list:\n",
    "        return text.split()"
   ]
  },
  {
   "cell_type": "code",
   "execution_count": 7,
   "metadata": {},
   "outputs": [],
   "source": [
    "def text_cleaning(text:str)->str:\n",
    "    '''Make text lowercase, remove text in square brackets,remove links,remove punctuation\n",
    "    and remove words containing numbers.'''\n",
    "    text = str(text).lower()\n",
    "    text = re.sub('\\[.*?\\]', '', text)\n",
    "    text = re.sub('https?://\\S+|www\\.\\S+', '', text)\n",
    "    text = re.sub('<.*?>+', '', text)\n",
    "    text = re.sub('[%s]' % re.escape(string.punctuation), '', text)\n",
    "    text = re.sub('\\n', '', text)\n",
    "    text = re.sub('\\w*\\d\\w*', '', text)\n",
    "    return text\n",
    "\n",
    "def list_to_text(l:list)->str:\n",
    "    return ' '.join(l)"
   ]
  },
  {
   "cell_type": "code",
   "execution_count": 8,
   "metadata": {},
   "outputs": [],
   "source": [
    "def preprocess_text(text : str) -> str:\n",
    "    res = []\n",
    "    text = text_cleaning(text)\n",
    "    list_text = word_tokenize(text)\n",
    "    for word in list_text:\n",
    "        res.append(lemmatize(word))\n",
    "    return list_to_text(res)"
   ]
  },
  {
   "cell_type": "code",
   "execution_count": 9,
   "metadata": {},
   "outputs": [],
   "source": [
    "df['text_cleaned'] = df['text'].apply(lambda x:preprocess_text(x))"
   ]
  },
  {
   "cell_type": "code",
   "execution_count": 10,
   "metadata": {},
   "outputs": [],
   "source": [
    "def get_max_len(text:str)->int:\n",
    "    return len(text.split())\n",
    "\n",
    "df['max_len'] = df['text_cleaned'].apply(lambda x:get_max_len(x))"
   ]
  },
  {
   "cell_type": "code",
   "execution_count": 11,
   "metadata": {},
   "outputs": [],
   "source": [
    "unique_mapping = {}\n",
    "for row_text in df['text_cleaned']:\n",
    "    for word in row_text.split():\n",
    "        if word not in unique_mapping:\n",
    "            unique_mapping[word] = 1\n",
    "        else:\n",
    "            unique_mapping[word]+=1"
   ]
  },
  {
   "cell_type": "code",
   "execution_count": 12,
   "metadata": {},
   "outputs": [
    {
     "data": {
      "text/plain": [
       "28095"
      ]
     },
     "execution_count": 12,
     "metadata": {},
     "output_type": "execute_result"
    }
   ],
   "source": [
    "len(unique_mapping)"
   ]
  },
  {
   "cell_type": "code",
   "execution_count": 13,
   "metadata": {},
   "outputs": [
    {
     "data": {
      "text/html": [
       "<div>\n",
       "<style scoped>\n",
       "    .dataframe tbody tr th:only-of-type {\n",
       "        vertical-align: middle;\n",
       "    }\n",
       "\n",
       "    .dataframe tbody tr th {\n",
       "        vertical-align: top;\n",
       "    }\n",
       "\n",
       "    .dataframe thead th {\n",
       "        text-align: right;\n",
       "    }\n",
       "</style>\n",
       "<table border=\"1\" class=\"dataframe\">\n",
       "  <thead>\n",
       "    <tr style=\"text-align: right;\">\n",
       "      <th></th>\n",
       "      <th>text</th>\n",
       "      <th>cat</th>\n",
       "      <th>text_cleaned</th>\n",
       "      <th>max_len</th>\n",
       "    </tr>\n",
       "  </thead>\n",
       "  <tbody>\n",
       "    <tr>\n",
       "      <th>0</th>\n",
       "      <td>Ad sales boost Time Warner profit  Quarterly p...</td>\n",
       "      <td>business</td>\n",
       "      <td>ad sale boost time warner profit quarterly pro...</td>\n",
       "      <td>399</td>\n",
       "    </tr>\n",
       "    <tr>\n",
       "      <th>1</th>\n",
       "      <td>Dollar gains on Greenspan speech  The dollar h...</td>\n",
       "      <td>business</td>\n",
       "      <td>dollar gain on greenspan speech the dollar ha ...</td>\n",
       "      <td>377</td>\n",
       "    </tr>\n",
       "    <tr>\n",
       "      <th>2</th>\n",
       "      <td>Yukos unit buyer faces loan claim  The owners ...</td>\n",
       "      <td>business</td>\n",
       "      <td>yukos unit buyer face loan claim the owner of ...</td>\n",
       "      <td>260</td>\n",
       "    </tr>\n",
       "    <tr>\n",
       "      <th>3</th>\n",
       "      <td>High fuel prices hit BA's profits  British Air...</td>\n",
       "      <td>business</td>\n",
       "      <td>high fuel price hit ba profit british airway h...</td>\n",
       "      <td>383</td>\n",
       "    </tr>\n",
       "    <tr>\n",
       "      <th>4</th>\n",
       "      <td>Pernod takeover talk lifts Domecq  Shares in U...</td>\n",
       "      <td>business</td>\n",
       "      <td>pernod takeover talk lift domecq share in uk d...</td>\n",
       "      <td>252</td>\n",
       "    </tr>\n",
       "  </tbody>\n",
       "</table>\n",
       "</div>"
      ],
      "text/plain": [
       "                                                text       cat  \\\n",
       "0  Ad sales boost Time Warner profit  Quarterly p...  business   \n",
       "1  Dollar gains on Greenspan speech  The dollar h...  business   \n",
       "2  Yukos unit buyer faces loan claim  The owners ...  business   \n",
       "3  High fuel prices hit BA's profits  British Air...  business   \n",
       "4  Pernod takeover talk lifts Domecq  Shares in U...  business   \n",
       "\n",
       "                                        text_cleaned  max_len  \n",
       "0  ad sale boost time warner profit quarterly pro...      399  \n",
       "1  dollar gain on greenspan speech the dollar ha ...      377  \n",
       "2  yukos unit buyer face loan claim the owner of ...      260  \n",
       "3  high fuel price hit ba profit british airway h...      383  \n",
       "4  pernod takeover talk lift domecq share in uk d...      252  "
      ]
     },
     "execution_count": 13,
     "metadata": {},
     "output_type": "execute_result"
    }
   ],
   "source": [
    "df.head()"
   ]
  },
  {
   "cell_type": "code",
   "execution_count": 16,
   "metadata": {},
   "outputs": [],
   "source": [
    "import gensim.models\n",
    "from time import time\n",
    "from gensim import utils\n",
    "import multiprocessing\n",
    "\n",
    "tagged_df_train = []\n",
    "count = 0\n",
    "for sentence in df['text_cleaned']:\n",
    "    tagged_df_train.append(gensim.models.doc2vec.TaggedDocument(sentence.split(), [count]))\n",
    "    count+=1\n",
    "\n",
    "cores = multiprocessing.cpu_count() # Count the number of cores in a computer\n",
    "model_d2v = gensim.models.doc2vec.Doc2Vec(vector_size=200, min_count=2, epochs=20, workers=cores-1)\n",
    "model_d2v.build_vocab(tagged_df_train)"
   ]
  },
  {
   "cell_type": "code",
   "execution_count": 17,
   "metadata": {},
   "outputs": [],
   "source": [
    "model_d2v.train(tagged_df_train, total_examples=model_d2v.corpus_count, epochs=model_d2v.epochs)"
   ]
  },
  {
   "cell_type": "code",
   "execution_count": 20,
   "metadata": {},
   "outputs": [],
   "source": [
    "ranks = []\n",
    "second_ranks = []\n",
    "for doc_id in range(len(tagged_df_train)):\n",
    "    inferred_vector = model_d2v.infer_vector(tagged_df_train[doc_id].words)\n",
    "    sims = model_d2v.dv.most_similar([inferred_vector], topn=len(model_d2v.dv))\n",
    "    rank = [docid for docid, sim in sims].index(doc_id)\n",
    "    ranks.append(rank)\n",
    "    second_ranks.append(sims[1])"
   ]
  },
  {
   "cell_type": "code",
   "execution_count": 21,
   "metadata": {},
   "outputs": [
    {
     "data": {
      "text/html": [
       "<div>\n",
       "<style scoped>\n",
       "    .dataframe tbody tr th:only-of-type {\n",
       "        vertical-align: middle;\n",
       "    }\n",
       "\n",
       "    .dataframe tbody tr th {\n",
       "        vertical-align: top;\n",
       "    }\n",
       "\n",
       "    .dataframe thead th {\n",
       "        text-align: right;\n",
       "    }\n",
       "</style>\n",
       "<table border=\"1\" class=\"dataframe\">\n",
       "  <thead>\n",
       "    <tr style=\"text-align: right;\">\n",
       "      <th></th>\n",
       "      <th>text</th>\n",
       "      <th>cat</th>\n",
       "      <th>text_cleaned</th>\n",
       "      <th>max_len</th>\n",
       "    </tr>\n",
       "  </thead>\n",
       "  <tbody>\n",
       "    <tr>\n",
       "      <th>0</th>\n",
       "      <td>Ad sales boost Time Warner profit  Quarterly p...</td>\n",
       "      <td>business</td>\n",
       "      <td>ad sale boost time warner profit quarterly pro...</td>\n",
       "      <td>399</td>\n",
       "    </tr>\n",
       "    <tr>\n",
       "      <th>1</th>\n",
       "      <td>Dollar gains on Greenspan speech  The dollar h...</td>\n",
       "      <td>business</td>\n",
       "      <td>dollar gain on greenspan speech the dollar ha ...</td>\n",
       "      <td>377</td>\n",
       "    </tr>\n",
       "    <tr>\n",
       "      <th>2</th>\n",
       "      <td>Yukos unit buyer faces loan claim  The owners ...</td>\n",
       "      <td>business</td>\n",
       "      <td>yukos unit buyer face loan claim the owner of ...</td>\n",
       "      <td>260</td>\n",
       "    </tr>\n",
       "    <tr>\n",
       "      <th>3</th>\n",
       "      <td>High fuel prices hit BA's profits  British Air...</td>\n",
       "      <td>business</td>\n",
       "      <td>high fuel price hit ba profit british airway h...</td>\n",
       "      <td>383</td>\n",
       "    </tr>\n",
       "    <tr>\n",
       "      <th>4</th>\n",
       "      <td>Pernod takeover talk lifts Domecq  Shares in U...</td>\n",
       "      <td>business</td>\n",
       "      <td>pernod takeover talk lift domecq share in uk d...</td>\n",
       "      <td>252</td>\n",
       "    </tr>\n",
       "    <tr>\n",
       "      <th>...</th>\n",
       "      <td>...</td>\n",
       "      <td>...</td>\n",
       "      <td>...</td>\n",
       "      <td>...</td>\n",
       "    </tr>\n",
       "    <tr>\n",
       "      <th>2720</th>\n",
       "      <td>Mobile games come of age  The BBC News website...</td>\n",
       "      <td>tech</td>\n",
       "      <td>mobile game come of age the bbc news website t...</td>\n",
       "      <td>909</td>\n",
       "    </tr>\n",
       "    <tr>\n",
       "      <th>2721</th>\n",
       "      <td>California sets fines for spyware  The makers ...</td>\n",
       "      <td>tech</td>\n",
       "      <td>california set fine for spyware the maker of c...</td>\n",
       "      <td>291</td>\n",
       "    </tr>\n",
       "    <tr>\n",
       "      <th>2722</th>\n",
       "      <td>Web helps collect aid donations  The web is he...</td>\n",
       "      <td>tech</td>\n",
       "      <td>web help collect aid donation the web is helpi...</td>\n",
       "      <td>465</td>\n",
       "    </tr>\n",
       "    <tr>\n",
       "      <th>2723</th>\n",
       "      <td>Mobiles rack up 20 years of use  Mobile phones...</td>\n",
       "      <td>tech</td>\n",
       "      <td>mobile rack up year of use mobile phone in the...</td>\n",
       "      <td>425</td>\n",
       "    </tr>\n",
       "    <tr>\n",
       "      <th>2724</th>\n",
       "      <td>Blogs take on the mainstream  Web logs or blog...</td>\n",
       "      <td>tech</td>\n",
       "      <td>blog take on the mainstream web log or blog ar...</td>\n",
       "      <td>697</td>\n",
       "    </tr>\n",
       "  </tbody>\n",
       "</table>\n",
       "<p>2725 rows × 4 columns</p>\n",
       "</div>"
      ],
      "text/plain": [
       "                                                   text       cat  \\\n",
       "0     Ad sales boost Time Warner profit  Quarterly p...  business   \n",
       "1     Dollar gains on Greenspan speech  The dollar h...  business   \n",
       "2     Yukos unit buyer faces loan claim  The owners ...  business   \n",
       "3     High fuel prices hit BA's profits  British Air...  business   \n",
       "4     Pernod takeover talk lifts Domecq  Shares in U...  business   \n",
       "...                                                 ...       ...   \n",
       "2720  Mobile games come of age  The BBC News website...      tech   \n",
       "2721  California sets fines for spyware  The makers ...      tech   \n",
       "2722  Web helps collect aid donations  The web is he...      tech   \n",
       "2723  Mobiles rack up 20 years of use  Mobile phones...      tech   \n",
       "2724  Blogs take on the mainstream  Web logs or blog...      tech   \n",
       "\n",
       "                                           text_cleaned  max_len  \n",
       "0     ad sale boost time warner profit quarterly pro...      399  \n",
       "1     dollar gain on greenspan speech the dollar ha ...      377  \n",
       "2     yukos unit buyer face loan claim the owner of ...      260  \n",
       "3     high fuel price hit ba profit british airway h...      383  \n",
       "4     pernod takeover talk lift domecq share in uk d...      252  \n",
       "...                                                 ...      ...  \n",
       "2720  mobile game come of age the bbc news website t...      909  \n",
       "2721  california set fine for spyware the maker of c...      291  \n",
       "2722  web help collect aid donation the web is helpi...      465  \n",
       "2723  mobile rack up year of use mobile phone in the...      425  \n",
       "2724  blog take on the mainstream web log or blog ar...      697  \n",
       "\n",
       "[2725 rows x 4 columns]"
      ]
     },
     "execution_count": 21,
     "metadata": {},
     "output_type": "execute_result"
    }
   ],
   "source": [
    "df"
   ]
  },
  {
   "cell_type": "code",
   "execution_count": 29,
   "metadata": {},
   "outputs": [
    {
     "name": "stdout",
     "output_type": "stream",
     "text": [
      "business Document (0): «ad sale boost time warner profit quarterly profit at u medium giant timewarner jumped to £ for the three month to december from yearearlier the firm which is now one of the biggest investor in google benefited from sale of highspeed internet connection and higher advert sale timewarner said fourth quarter sale rose to from it profit were buoyed by oneoff gain which offset a profit dip at warner bros and le user for aol time warner said on friday that it now owns of searchengine google but it own internet business aol had ha mixed fortune it lost subscriber in the fourth quarter profit were lower than in the preceding three quarter however the company said aols underlying profit before exceptional item rose on the back of stronger internet advertising revenue it hope to increase subscriber by offering the online service free to timewarner internet customer and will try to sign up aols existing customer for highspeed broadband timewarner also ha to restate and result following a probe by the u security exchange commission sec which is close to concluding time warner fourth quarter profit were slightly better than analyst expectation but it film division saw profit slump to helped by boxoffice flop alexander and catwoman a sharp contrast to yearearlier when the third and final film in the lord of the ring trilogy boosted result for the fullyear timewarner posted a profit of up from it performance while revenue grew to our financial performance wa strong meeting or exceeding all of our fullyear objective and greatly enhancing our flexibility chairman and chief executive richard parson said for timewarner is projecting operating earnings growth of around and also expects higher revenue and wider profit margin timewarner is to restate it account a part of effort to resolve an inquiry into aol by u market regulator it ha already offered to pay to settle charge in a deal that is under review by the sec the company said it wa unable to estimate the amount it needed to set aside for legal reserve which it previously set at it intends to adjust the way it account for a deal with german music publisher bertelsmanns purchase of a stake in aol europe which it had reported a advertising revenue it will now book the sale of it stake in aol europe a a loss on the value of that stake»\n",
      "\n",
      "SIMILAR/DISSIMILAR DOCS PER MODEL Doc2Vec<dm/m,d200,n5,w5,mc2,s0.001,t7>:\n",
      "\n",
      "business MOST (2322, 0.9242938160896301): «blog take on the mainstream web log or blog are everywhere with at least an estimated five million on the web and that number is set to grow these online diary come in many shape and style ranging from people willing to sharing their view picture and link to company interested in another way of reaching their customer but this year the focus ha been on blog which cast a critical eye over news event often writing about issue ignored by the big medium or offering an eyewitness account of event most blog may have only a small readership but communication expert say they have provided an avenue for people to have a say in the world of politics the most wellknown example include iraqi salam pax account of the usled war former iranian vicepresident mohammad ali abtahi exclusive insight into the islamic republic government and the high and low of the recent u election campaign there are already website pulling together these firsthand reporting account heralded by blog like wikinewscom launched last november the blogging movement ha been building up for many year andrew nachison director of the medium center a usbased thinktank that study medium technology and society highlight the u presidential race a a possible turning point for blog you could look at that a a moment when audience exercised a new form of power to choose among many more source of information than they have never had before he say and blog were a key part of that transformation among them were blog carrying picture message saying we are sorry for george w bush victory and the response from his supporter mr nachison argues blog have become independent source for image and idea that circumvent traditional source of news and information such a newspaper tv and radio we have to acknowledge that in all of these case mainstream medium actually play a role in the discussion and the distribution of these idea he told the bbc news website but they followed the story they didnt lead it some part of the socalled traditional medium have expressed concern about this emerging competitor raising question about the journalistic value of blog others like the french newspaper le monde have applied a different strategy offering blog a part of it content i dont think the mission and role of journalism is threatened it is in transition a society itself is in transition say mr nachison however he agrees with other expert like the linguist and political analyst noam chomsky that mainstream medium ha lost the traditional role of news gatekeeper the onetomany road of traditional journalism yes it is threatened and professional journalist need to acclimate themselves to an environment in which there are many more contributor to the discourse say mr nachison the notion of a gatekeeper who filter and decides whats acceptable for public consumption and what isnt thats gone forever with people now walking around with information device in their pocket like camera or video phone we are going to see more instance of ordinary citizen breaking story it seems unlikely that we will end up living in a planet where every human is a blogger but the current number of blog is likely to keep on growing in a web already overloaded with information blog analysis firm technorati estimate the number of blog in existence the socalled blogosphere ha already exceeded five million and is growing at exponential level tool such a google blogger movabletype and the recently launched beta version of msn space are making it easier to run a blog u research thinktank pew internet american life say a blog is created every second although le than of the total are updated at least once every two month but expert agree that the phenomenon allowing individual to publish share idea exchange information comment on current issue post image or video on the web easily is here to stay we are entering one era in which the technological infrastructure is creating a different context for how we tell our story and how we communicate with each other said mr nachison and there going to be bad that come with the good»\n",
      "\n",
      "business SECOND-MOST (2724, 0.9191014766693115): «blog take on the mainstream web log or blog are everywhere with at least an estimated five million on the web and that number is set to grow these online diary come in many shape and style ranging from people willing to sharing their view picture and link to company interested in another way of reaching their customer but this year the focus ha been on blog which cast a critical eye over news event often writing about issue ignored by the big medium or offering an eyewitness account of event most blog may have only a small readership but communication expert say they have provided an avenue for people to have a say in the world of politics the most wellknown example include iraqi salam pax account of the usled war former iranian vicepresident mohammad ali abtahi exclusive insight into the islamic republic government and the high and low of the recent u election campaign there are already website pulling together these firsthand reporting account heralded by blog like wikinewscom launched last november the blogging movement ha been building up for many year andrew nachison director of the medium center a usbased thinktank that study medium technology and society highlight the u presidential race a a possible turning point for blog you could look at that a a moment when audience exercised a new form of power to choose among many more source of information than they have never had before he say and blog were a key part of that transformation among them were blog carrying picture message saying we are sorry for george w bush victory and the response from his supporter mr nachison argues blog have become independent source for image and idea that circumvent traditional source of news and information such a newspaper tv and radio we have to acknowledge that in all of these case mainstream medium actually play a role in the discussion and the distribution of these idea he told the bbc news website but they followed the story they didnt lead it some part of the socalled traditional medium have expressed concern about this emerging competitor raising question about the journalistic value of blog others like the french newspaper le monde have applied a different strategy offering blog a part of it content i dont think the mission and role of journalism is threatened it is in transition a society itself is in transition say mr nachison however he agrees with other expert like the linguist and political analyst noam chomsky that mainstream medium ha lost the traditional role of news gatekeeper the onetomany road of traditional journalism yes it is threatened and professional journalist need to acclimate themselves to an environment in which there are many more contributor to the discourse say mr nachison the notion of a gatekeeper who filter and decides whats acceptable for public consumption and what isnt thats gone forever with people now walking around with information device in their pocket like camera or video phone we are going to see more instance of ordinary citizen breaking story it seems unlikely that we will end up living in a planet where every human is a blogger but the current number of blog is likely to keep on growing in a web already overloaded with information blog analysis firm technorati estimate the number of blog in existence the socalled blogosphere ha already exceeded five million and is growing at exponential level tool such a google blogger movabletype and the recently launched beta version of msn space are making it easier to run a blog u research thinktank pew internet american life say a blog is created every second although le than of the total are updated at least once every two month but expert agree that the phenomenon allowing individual to publish share idea exchange information comment on current issue post image or video on the web easily is here to stay we are entering one era in which the technological infrastructure is creating a different context for how we tell our story and how we communicate with each other said mr nachison and there going to be bad that come with the good»\n",
      "\n",
      "politics MEDIAN (1398, 0.1707601696252823): «election deal faltered over heath role the tory failed to hold onto power in after liberal demanded sir edward heath quit in return for cooperation document released after year reveal the failed negotiation by the then prime minister following the dramatic february general election liberal leader jeremy thorpe appeared willing to form a coalition government but it partly collapsed over the conservative leader own role prompting the queen to ask harold wilson to form a labour government the february general election surprised the nation when it created a hung parliament with no party in overall control sir edward had gone to the country for a fresh mandate amid the spiralling economic crisis a miner strike and the subsequent threeday week labour emerged with the most seat but it mp were short of the number mr wilson needed to form a majority sir edward who had received more vote but had fewer mp believed he had the authority to remain at number providing the liberal mp would support his government he said the liberal could keep out labour in three way lend ad hoc support to his minority government help draw up the government programme or have up to three cabinet member in a coalition with the conservative according to the document released at the national archive the friendly and easy first meeting indicated that both sir edward and mr thorpe thought they had the making of a deal mr thorpe wa in high spirit having just led his party to a historic jump in support he also argued for a grand coalition of all three main party but sir edward said that wa impossible because the labour left wa set against it and the pair settled on trying for a conservativeliberal pact hour later sir edward hope of a deal unravelled a mr thorpe colleague refused to support him jeremy said he wa encountering a rather embarrassing problem with his colleague about the prime minister personally read a telephone memo for mr heath they feel they could not agree to serve a long a he is the prime minister asked if this wa his own view he said no it wa not i am very close to ted and thought he wa by far the most able man we had and he would be perfectly happy to serve it wa only some of his colleague who were being difficult the following day the stickling point had clearly become twofold mr thorpe colleague wanted electoral reform and sir edward resignation mr thorpe told sir edward i am sorry this is obviously hell a nightmare on stilt for you somehow i personally hope that we can work something out four hour later sir edward called the liberal leader back to downing street in a last attempt at a deal the minute of the meeting show how the chance of a coalition government quickly evaporated the pm said he wa bound to tell mr thorpe that his colleague had told him that they would not agree to serve under any other prime minister mr thorpe wa at liberty to verify this by talking to one or two of the prime minister colleague document show that sir edward mulled over resigning and perhaps returning to coalition government in a labourled coalition but he already knew mr wilson would not form a coalition with either the liberal or the conservative because of the opposition of the labour left within hour of his final talk with mr thorpe sir edward told the nation he wa resigning and the queen invited mr wilson to form a new minority government»\n",
      "\n",
      "tech LEAST (1658, -0.13266834616661072): «ranger seal old firm win goal from gregory vignal and nacho novo gave ranger a scrappy victory at celtic park that move them three point clear of the champion ranger had rarely threatened until celtic goalkeeper rab douglas let defender vignals drive slip through his grasp and into the net opposite number ronald waterreus had been ranger hero saving superbly from craig bellamy and john hartson striker novo secured victory lobbing douglas with eight minute remaining it ended celtic unbeaten run at home in old firm derby and gave ranger manager alex mcleish his first victory at the home of his glasgow rival celtic had won their last six meeting on their home pitch including twice already this season they started confidently with new signing bellamy on loan from newcastle united given his celtic debut up front with wale international colleague john hartson and chris sutton dropping into midfield it took bellamy just four minute to threaten taking on marvin andrew before delivering a low drive that wa held by waterreus at the second attempt he had an even better chance after hartson dispossesed sotiris kyrgiakos and sent his strike partner clear with only the goalkeeper to beat but waterreus did well to beat away bellamys disappointing low drive from yard waterreus came to the rescue again when the ball fell to hartson just inside the box and the dutch goalkeeper made a brave block it wa an old firm return for barry ferguson a mcleish stuck by the side that thumped four goal past hibernian but ranger found celtic harder to break down and douglas wa not threatened until minute after the break dado prso turned inside neil lennon only for the celtic goalkeeper to beat away his powerful drive a great defensive header by andrew prevented hartson pouncing from five yard out hartson foxed vignal at the edge of the ranger box but the striker shot on the turn wa again beaten away by waterreus ranger were beginning to dominate the midfield and vignal collecting a knock back from fernando ricksen broke the deadlock douglas somehow letting the frenchman dipping drive slip through his grasp novo pounced on a moment hesitation in the celtic defence to latch on to a long ball from ricksen and lob the ball over the advancing douglas ricksen appeared to be hit by a coin but it could not prevent ranger celebration at the final whistle douglas mcnamara balde varga laursen petrov lennon sutton thompson bellamy hartson sub marshall henchoz juninho paulista lambert maloney wallace mcgeady waterreus hutton kyrgiakos andrew ball buffel ferguson ricksen vignal prso novo sub mcgregor namouchi burke alex rae malcolm thompson lovenkrands m mccurry»\n",
      "\n"
     ]
    }
   ],
   "source": [
    "doc_id = 0\n",
    "print('{} Document ({}): «{}»\\n'.format(df['cat'].iloc[doc_id], doc_id, ' '.join(tagged_df_train[doc_id].words)))\n",
    "print(u'SIMILAR/DISSIMILAR DOCS PER MODEL %s:\\n' % model_d2v)\n",
    "for label, index in [('MOST', 0), ('SECOND-MOST', 1), ('MEDIAN', len(sims)//2), ('LEAST', len(sims) - 1)]:\n",
    "    print(u'%s %s %s: «%s»\\n' % (df['cat'].iloc[index],label, sims[index], ' '.join(tagged_df_train[sims[index][0]].words)))"
   ]
  }
 ],
 "metadata": {
  "kernelspec": {
   "display_name": "rakamin",
   "language": "python",
   "name": "python3"
  },
  "language_info": {
   "codemirror_mode": {
    "name": "ipython",
    "version": 3
   },
   "file_extension": ".py",
   "mimetype": "text/x-python",
   "name": "python",
   "nbconvert_exporter": "python",
   "pygments_lexer": "ipython3",
   "version": "3.9.16"
  },
  "orig_nbformat": 4
 },
 "nbformat": 4,
 "nbformat_minor": 2
}
